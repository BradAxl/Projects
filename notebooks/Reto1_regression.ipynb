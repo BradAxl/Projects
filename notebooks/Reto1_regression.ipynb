{
 "cells": [
  {
   "cell_type": "code",
   "execution_count": 45,
   "metadata": {},
   "outputs": [
    {
     "name": "stdout",
     "output_type": "stream",
     "text": [
      "The autoreload extension is already loaded. To reload it, use:\n",
      "  %reload_ext autoreload\n"
     ]
    }
   ],
   "source": [
    "import pandas as pd\n",
    "import numpy as np\n",
    "import matplotlib.pyplot as plt\n",
    "import seaborn as sns\n",
    "import warnings\n",
    "import re\n",
    "from datetime import datetime\n",
    "from scipy.stats import skew\n",
    "from scipy.stats.stats import pearsonr\n",
    "%load_ext autoreload\n",
    "%autoreload 2\n",
    "%matplotlib inline\n",
    "%config InlineBackend.figure_format = 'retina'\n",
    "warnings.filterwarnings('ignore')\n",
    "sns.set(style='whitegrid')"
   ]
  },
  {
   "cell_type": "markdown",
   "metadata": {},
   "source": [
    "Obteniendo la data"
   ]
  },
  {
   "cell_type": "code",
   "execution_count": 125,
   "metadata": {},
   "outputs": [],
   "source": [
    "train_df=pd.read_csv('files_nuevoReto/googleplay_train.csv')\n",
    "test_df=pd.read_csv('files_nuevoReto/googleplay_test.csv')\n",
    "combine=[train_df,test_df]"
   ]
  },
  {
   "cell_type": "code",
   "execution_count": 126,
   "metadata": {},
   "outputs": [],
   "source": [
    "#Convirtiendo los valores que no son numericos dentro de la columna Size a NaN para luego rellenarlas con su media\n",
    "def converting(combine,col):\n",
    "    for dataset in combine:\n",
    "        dataset[col]=pd.to_numeric(dataset[col], errors='coerce')\n",
    "converting(combine,'Size')"
   ]
  },
  {
   "cell_type": "code",
   "execution_count": 127,
   "metadata": {},
   "outputs": [],
   "source": [
    "def splittingDate(data):\n",
    "    mes=[datetime.strptime(date, \"%B %d, %Y\").month for date in data['Last Updated']] #Obtenemos el mes\n",
    "    año=[datetime.strptime(date, \"%B %d, %Y\").year for date in data['Last Updated']] #Obtenemos el dia y el año [dia,año]\n",
    "    #dia=[datetime.strptime(date, \"%B %d, %Y\").day for date in data['Last Updated']] #Obtenemos el dia y el año [dia,año]\n",
    "    data['Month_updated']=mes\n",
    "    data['Year_updated']=año\n",
    "    #data['Day_updated']=dia\n",
    "    #eliminamos la columna que se dividió\n",
    "    data.drop('Last Updated',axis=1,inplace=True)"
   ]
  },
  {
   "cell_type": "code",
   "execution_count": 128,
   "metadata": {},
   "outputs": [],
   "source": [
    "splittingDate(train_df)\n",
    "splittingDate(test_df)"
   ]
  },
  {
   "cell_type": "code",
   "execution_count": 129,
   "metadata": {},
   "outputs": [],
   "source": [
    "#Juntamos toda la data en un solo dataset para trabajar sobre ella, se separá para el entrenamiento\n",
    "all_data = pd.concat((train_df.drop(['App','Rating'],axis=1),test_df.drop(['App'],axis=1)))"
   ]
  },
  {
   "cell_type": "markdown",
   "metadata": {},
   "source": [
    "Escalamiento de los valores numericos que se encuentran muy alejados"
   ]
  },
  {
   "cell_type": "code",
   "execution_count": 130,
   "metadata": {},
   "outputs": [],
   "source": [
    "#Transformamos el target(Rating) usando una funcion de numpy que aplica el logaritmo\n",
    "#train_df[\"Rating\"] = np.log1p(train_df[\"Rating\"])\n",
    "columnas_numericas = all_data.dtypes[all_data.dtypes != \"object\"].index\n",
    "#Calculamos el sesgo existente de cada columna numerica con el fin de saber si se aplicará un escalamiento de estos o no\n",
    "columnas_sesgadas = train_df[columnas_numericas].apply(lambda x: skew(x.dropna())) #comp\n",
    "#Para datos distribuidos normalmente, la asimetría debe ser aproximadamente 0, por lo tanto si el resultado es mas de 0.75 significa que estan muy sesgados\n",
    "columnas_sesgadas = columnas_sesgadas[columnas_sesgadas > 0.75]\n",
    "columnas_sesgadas = columnas_sesgadas.index\n",
    "\n",
    "all_data[columnas_sesgadas] = np.log1p(all_data[columnas_sesgadas])"
   ]
  },
  {
   "cell_type": "code",
   "execution_count": 131,
   "metadata": {},
   "outputs": [
    {
     "data": {
      "text/plain": [
       "Index(['Installs', 'Price', 'Reviews', 'Size', 'Month_updated',\n",
       "       'Year_updated'],\n",
       "      dtype='object')"
      ]
     },
     "execution_count": 131,
     "metadata": {},
     "output_type": "execute_result"
    }
   ],
   "source": [
    "columnas_numericas"
   ]
  },
  {
   "cell_type": "code",
   "execution_count": 132,
   "metadata": {},
   "outputs": [
    {
     "data": {
      "text/plain": [
       "['Android Ver', 'Category', 'Content Rating', 'Genres', 'Type']"
      ]
     },
     "execution_count": 132,
     "metadata": {},
     "output_type": "execute_result"
    }
   ],
   "source": [
    "columnas_categoricas=[col for col in all_data.columns if col not in columnas_numericas]\n",
    "columnas_categoricas"
   ]
  },
  {
   "cell_type": "code",
   "execution_count": 133,
   "metadata": {},
   "outputs": [
    {
     "data": {
      "text/html": [
       "<div>\n",
       "<style scoped>\n",
       "    .dataframe tbody tr th:only-of-type {\n",
       "        vertical-align: middle;\n",
       "    }\n",
       "\n",
       "    .dataframe tbody tr th {\n",
       "        vertical-align: top;\n",
       "    }\n",
       "\n",
       "    .dataframe thead th {\n",
       "        text-align: right;\n",
       "    }\n",
       "</style>\n",
       "<table border=\"1\" class=\"dataframe\">\n",
       "  <thead>\n",
       "    <tr style=\"text-align: right;\">\n",
       "      <th></th>\n",
       "      <th>Android Ver</th>\n",
       "      <th>Category</th>\n",
       "      <th>Content Rating</th>\n",
       "      <th>Genres</th>\n",
       "      <th>Installs</th>\n",
       "      <th>Price</th>\n",
       "      <th>Reviews</th>\n",
       "      <th>Size</th>\n",
       "      <th>Type</th>\n",
       "      <th>Month_updated</th>\n",
       "      <th>Year_updated</th>\n",
       "    </tr>\n",
       "  </thead>\n",
       "  <tbody>\n",
       "    <tr>\n",
       "      <th>0</th>\n",
       "      <td>Varies with device</td>\n",
       "      <td>NEWS_AND_MAGAZINES</td>\n",
       "      <td>Everyone</td>\n",
       "      <td>News &amp; Magazines</td>\n",
       "      <td>13.815512</td>\n",
       "      <td>0.000000</td>\n",
       "      <td>9.247925</td>\n",
       "      <td>NaN</td>\n",
       "      <td>Free</td>\n",
       "      <td>7</td>\n",
       "      <td>2018</td>\n",
       "    </tr>\n",
       "    <tr>\n",
       "      <th>1</th>\n",
       "      <td>2.2</td>\n",
       "      <td>FAMILY</td>\n",
       "      <td>Everyone</td>\n",
       "      <td>Education</td>\n",
       "      <td>8.517393</td>\n",
       "      <td>0.000000</td>\n",
       "      <td>3.761200</td>\n",
       "      <td>6.318968</td>\n",
       "      <td>Free</td>\n",
       "      <td>5</td>\n",
       "      <td>2017</td>\n",
       "    </tr>\n",
       "    <tr>\n",
       "      <th>2</th>\n",
       "      <td>4.0.3</td>\n",
       "      <td>TOOLS</td>\n",
       "      <td>Everyone</td>\n",
       "      <td>Tools</td>\n",
       "      <td>11.512935</td>\n",
       "      <td>0.000000</td>\n",
       "      <td>8.020928</td>\n",
       "      <td>8.972819</td>\n",
       "      <td>Free</td>\n",
       "      <td>6</td>\n",
       "      <td>2017</td>\n",
       "    </tr>\n",
       "    <tr>\n",
       "      <th>3</th>\n",
       "      <td>3.0</td>\n",
       "      <td>FAMILY</td>\n",
       "      <td>Teen</td>\n",
       "      <td>Role Playing</td>\n",
       "      <td>10.819798</td>\n",
       "      <td>2.396986</td>\n",
       "      <td>8.602086</td>\n",
       "      <td>9.704122</td>\n",
       "      <td>Paid</td>\n",
       "      <td>6</td>\n",
       "      <td>2018</td>\n",
       "    </tr>\n",
       "    <tr>\n",
       "      <th>4</th>\n",
       "      <td>Varies with device</td>\n",
       "      <td>TOOLS</td>\n",
       "      <td>Everyone</td>\n",
       "      <td>Tools</td>\n",
       "      <td>13.815512</td>\n",
       "      <td>0.000000</td>\n",
       "      <td>10.684600</td>\n",
       "      <td>NaN</td>\n",
       "      <td>Free</td>\n",
       "      <td>8</td>\n",
       "      <td>2017</td>\n",
       "    </tr>\n",
       "  </tbody>\n",
       "</table>\n",
       "</div>"
      ],
      "text/plain": [
       "          Android Ver            Category Content Rating            Genres  \\\n",
       "0  Varies with device  NEWS_AND_MAGAZINES       Everyone  News & Magazines   \n",
       "1                 2.2              FAMILY       Everyone         Education   \n",
       "2               4.0.3               TOOLS       Everyone             Tools   \n",
       "3                 3.0              FAMILY           Teen      Role Playing   \n",
       "4  Varies with device               TOOLS       Everyone             Tools   \n",
       "\n",
       "    Installs     Price    Reviews      Size  Type  Month_updated  Year_updated  \n",
       "0  13.815512  0.000000   9.247925       NaN  Free              7          2018  \n",
       "1   8.517393  0.000000   3.761200  6.318968  Free              5          2017  \n",
       "2  11.512935  0.000000   8.020928  8.972819  Free              6          2017  \n",
       "3  10.819798  2.396986   8.602086  9.704122  Paid              6          2018  \n",
       "4  13.815512  0.000000  10.684600       NaN  Free              8          2017  "
      ]
     },
     "execution_count": 133,
     "metadata": {},
     "output_type": "execute_result"
    }
   ],
   "source": [
    "all_data.head()"
   ]
  },
  {
   "cell_type": "code",
   "execution_count": 134,
   "metadata": {},
   "outputs": [],
   "source": [
    "#transformando los años a categorico\n",
    "#all_data['Year_updated']=all_data['Year_updated'].astype(str)\n",
    "#all_data['Month_updated']=all_data['Month_updated'].astype(str)\n",
    "#all_data['Day_updated']=all_data['Day_updated'].astype(str)"
   ]
  },
  {
   "cell_type": "code",
   "execution_count": 135,
   "metadata": {},
   "outputs": [
    {
     "data": {
      "text/html": [
       "<div>\n",
       "<style scoped>\n",
       "    .dataframe tbody tr th:only-of-type {\n",
       "        vertical-align: middle;\n",
       "    }\n",
       "\n",
       "    .dataframe tbody tr th {\n",
       "        vertical-align: top;\n",
       "    }\n",
       "\n",
       "    .dataframe thead th {\n",
       "        text-align: right;\n",
       "    }\n",
       "</style>\n",
       "<table border=\"1\" class=\"dataframe\">\n",
       "  <thead>\n",
       "    <tr style=\"text-align: right;\">\n",
       "      <th></th>\n",
       "      <th>count</th>\n",
       "      <th>unique</th>\n",
       "      <th>top</th>\n",
       "      <th>freq</th>\n",
       "      <th>mean</th>\n",
       "      <th>std</th>\n",
       "      <th>min</th>\n",
       "      <th>25%</th>\n",
       "      <th>50%</th>\n",
       "      <th>75%</th>\n",
       "      <th>max</th>\n",
       "    </tr>\n",
       "  </thead>\n",
       "  <tbody>\n",
       "    <tr>\n",
       "      <th>Android Ver</th>\n",
       "      <td>9057</td>\n",
       "      <td>26</td>\n",
       "      <td>4.1</td>\n",
       "      <td>1987</td>\n",
       "      <td>NaN</td>\n",
       "      <td>NaN</td>\n",
       "      <td>NaN</td>\n",
       "      <td>NaN</td>\n",
       "      <td>NaN</td>\n",
       "      <td>NaN</td>\n",
       "      <td>NaN</td>\n",
       "    </tr>\n",
       "    <tr>\n",
       "      <th>Category</th>\n",
       "      <td>9344</td>\n",
       "      <td>33</td>\n",
       "      <td>FAMILY</td>\n",
       "      <td>1743</td>\n",
       "      <td>NaN</td>\n",
       "      <td>NaN</td>\n",
       "      <td>NaN</td>\n",
       "      <td>NaN</td>\n",
       "      <td>NaN</td>\n",
       "      <td>NaN</td>\n",
       "      <td>NaN</td>\n",
       "    </tr>\n",
       "    <tr>\n",
       "      <th>Content Rating</th>\n",
       "      <td>8976</td>\n",
       "      <td>6</td>\n",
       "      <td>Everyone</td>\n",
       "      <td>7100</td>\n",
       "      <td>NaN</td>\n",
       "      <td>NaN</td>\n",
       "      <td>NaN</td>\n",
       "      <td>NaN</td>\n",
       "      <td>NaN</td>\n",
       "      <td>NaN</td>\n",
       "      <td>NaN</td>\n",
       "    </tr>\n",
       "    <tr>\n",
       "      <th>Genres</th>\n",
       "      <td>9344</td>\n",
       "      <td>115</td>\n",
       "      <td>Tools</td>\n",
       "      <td>732</td>\n",
       "      <td>NaN</td>\n",
       "      <td>NaN</td>\n",
       "      <td>NaN</td>\n",
       "      <td>NaN</td>\n",
       "      <td>NaN</td>\n",
       "      <td>NaN</td>\n",
       "      <td>NaN</td>\n",
       "    </tr>\n",
       "    <tr>\n",
       "      <th>Installs</th>\n",
       "      <td>9344</td>\n",
       "      <td>NaN</td>\n",
       "      <td>NaN</td>\n",
       "      <td>NaN</td>\n",
       "      <td>12.2993</td>\n",
       "      <td>3.8375</td>\n",
       "      <td>0.693147</td>\n",
       "      <td>9.21044</td>\n",
       "      <td>13.1224</td>\n",
       "      <td>15.4249</td>\n",
       "      <td>20.7233</td>\n",
       "    </tr>\n",
       "    <tr>\n",
       "      <th>Price</th>\n",
       "      <td>9094</td>\n",
       "      <td>NaN</td>\n",
       "      <td>NaN</td>\n",
       "      <td>NaN</td>\n",
       "      <td>0.111635</td>\n",
       "      <td>0.478088</td>\n",
       "      <td>0</td>\n",
       "      <td>0</td>\n",
       "      <td>0</td>\n",
       "      <td>0</td>\n",
       "      <td>5.99396</td>\n",
       "    </tr>\n",
       "    <tr>\n",
       "      <th>Reviews</th>\n",
       "      <td>9344</td>\n",
       "      <td>NaN</td>\n",
       "      <td>NaN</td>\n",
       "      <td>NaN</td>\n",
       "      <td>8.37954</td>\n",
       "      <td>3.84623</td>\n",
       "      <td>0.693147</td>\n",
       "      <td>5.22977</td>\n",
       "      <td>8.68313</td>\n",
       "      <td>11.3091</td>\n",
       "      <td>18.1742</td>\n",
       "    </tr>\n",
       "    <tr>\n",
       "      <th>Size</th>\n",
       "      <td>7711</td>\n",
       "      <td>NaN</td>\n",
       "      <td>NaN</td>\n",
       "      <td>NaN</td>\n",
       "      <td>9.43868</td>\n",
       "      <td>1.30386</td>\n",
       "      <td>2.25129</td>\n",
       "      <td>8.59936</td>\n",
       "      <td>9.5706</td>\n",
       "      <td>10.428</td>\n",
       "      <td>11.5367</td>\n",
       "    </tr>\n",
       "    <tr>\n",
       "      <th>Type</th>\n",
       "      <td>9344</td>\n",
       "      <td>2</td>\n",
       "      <td>Free</td>\n",
       "      <td>8701</td>\n",
       "      <td>NaN</td>\n",
       "      <td>NaN</td>\n",
       "      <td>NaN</td>\n",
       "      <td>NaN</td>\n",
       "      <td>NaN</td>\n",
       "      <td>NaN</td>\n",
       "      <td>NaN</td>\n",
       "    </tr>\n",
       "    <tr>\n",
       "      <th>Month_updated</th>\n",
       "      <td>9344</td>\n",
       "      <td>NaN</td>\n",
       "      <td>NaN</td>\n",
       "      <td>NaN</td>\n",
       "      <td>6.45163</td>\n",
       "      <td>2.50967</td>\n",
       "      <td>1</td>\n",
       "      <td>5</td>\n",
       "      <td>7</td>\n",
       "      <td>8</td>\n",
       "      <td>12</td>\n",
       "    </tr>\n",
       "    <tr>\n",
       "      <th>Year_updated</th>\n",
       "      <td>9344</td>\n",
       "      <td>NaN</td>\n",
       "      <td>NaN</td>\n",
       "      <td>NaN</td>\n",
       "      <td>2017.42</td>\n",
       "      <td>1.10179</td>\n",
       "      <td>2010</td>\n",
       "      <td>2017</td>\n",
       "      <td>2018</td>\n",
       "      <td>2018</td>\n",
       "      <td>2018</td>\n",
       "    </tr>\n",
       "  </tbody>\n",
       "</table>\n",
       "</div>"
      ],
      "text/plain": [
       "               count unique       top  freq      mean       std       min  \\\n",
       "Android Ver     9057     26       4.1  1987       NaN       NaN       NaN   \n",
       "Category        9344     33    FAMILY  1743       NaN       NaN       NaN   \n",
       "Content Rating  8976      6  Everyone  7100       NaN       NaN       NaN   \n",
       "Genres          9344    115     Tools   732       NaN       NaN       NaN   \n",
       "Installs        9344    NaN       NaN   NaN   12.2993    3.8375  0.693147   \n",
       "Price           9094    NaN       NaN   NaN  0.111635  0.478088         0   \n",
       "Reviews         9344    NaN       NaN   NaN   8.37954   3.84623  0.693147   \n",
       "Size            7711    NaN       NaN   NaN   9.43868   1.30386   2.25129   \n",
       "Type            9344      2      Free  8701       NaN       NaN       NaN   \n",
       "Month_updated   9344    NaN       NaN   NaN   6.45163   2.50967         1   \n",
       "Year_updated    9344    NaN       NaN   NaN   2017.42   1.10179      2010   \n",
       "\n",
       "                    25%      50%      75%      max  \n",
       "Android Ver         NaN      NaN      NaN      NaN  \n",
       "Category            NaN      NaN      NaN      NaN  \n",
       "Content Rating      NaN      NaN      NaN      NaN  \n",
       "Genres              NaN      NaN      NaN      NaN  \n",
       "Installs        9.21044  13.1224  15.4249  20.7233  \n",
       "Price                 0        0        0  5.99396  \n",
       "Reviews         5.22977  8.68313  11.3091  18.1742  \n",
       "Size            8.59936   9.5706   10.428  11.5367  \n",
       "Type                NaN      NaN      NaN      NaN  \n",
       "Month_updated         5        7        8       12  \n",
       "Year_updated       2017     2018     2018     2018  "
      ]
     },
     "execution_count": 135,
     "metadata": {},
     "output_type": "execute_result"
    }
   ],
   "source": [
    "all_data.describe(include='all').T"
   ]
  },
  {
   "cell_type": "code",
   "execution_count": 136,
   "metadata": {},
   "outputs": [
    {
     "name": "stdout",
     "output_type": "stream",
     "text": [
      "<class 'pandas.core.frame.DataFrame'>\n",
      "Int64Index: 9344 entries, 0 to 1855\n",
      "Data columns (total 11 columns):\n",
      "Android Ver       9057 non-null object\n",
      "Category          9344 non-null object\n",
      "Content Rating    8976 non-null object\n",
      "Genres            9344 non-null object\n",
      "Installs          9344 non-null float64\n",
      "Price             9094 non-null float64\n",
      "Reviews           9344 non-null float64\n",
      "Size              7711 non-null float64\n",
      "Type              9344 non-null object\n",
      "Month_updated     9344 non-null int64\n",
      "Year_updated      9344 non-null int64\n",
      "dtypes: float64(4), int64(2), object(5)\n",
      "memory usage: 876.0+ KB\n"
     ]
    }
   ],
   "source": [
    "all_data.info()"
   ]
  },
  {
   "cell_type": "markdown",
   "metadata": {},
   "source": [
    "Rellenando las columnas numericas que contienen valores vacios"
   ]
  },
  {
   "cell_type": "code",
   "execution_count": 137,
   "metadata": {},
   "outputs": [],
   "source": [
    "#Podemos rellenar los valores vacíos de Size con la relacion que tiene con las demas caracteristicas\n",
    "#Pero ahora solo rellenaremos con la media\n",
    "#means={columna:{mean:value,is_null:value}}\n",
    "def refill_colnum(data,columns,means=None):\n",
    "    train=means is None\n",
    "    if train:\n",
    "        means={}\n",
    "    for col in columns:\n",
    "        if train:\n",
    "            means[col]={}\n",
    "            means[col]['mean']=data[col].mean()\n",
    "        if train and data[col].isna().sum() > 15:\n",
    "            means[col]['is_null']=True\n",
    "        #if 'is_null' in means[col]:\n",
    "         #   data[f'{col}Missing']=data[col].isnull()\n",
    "        data[col]=data[col].fillna(means[col]['mean'])\n",
    "    return means"
   ]
  },
  {
   "cell_type": "code",
   "execution_count": 138,
   "metadata": {},
   "outputs": [
    {
     "data": {
      "text/plain": [
       "{'Installs': {'mean': 12.299329759863443},\n",
       " 'Price': {'mean': 0.11163483877012781, 'is_null': True},\n",
       " 'Reviews': {'mean': 8.379542556369637},\n",
       " 'Size': {'mean': 9.438679247226464, 'is_null': True},\n",
       " 'Month_updated': {'mean': 6.451626712328767},\n",
       " 'Year_updated': {'mean': 2017.4197345890411}}"
      ]
     },
     "execution_count": 138,
     "metadata": {},
     "output_type": "execute_result"
    }
   ],
   "source": [
    "refill_colnum(all_data,columnas_numericas)"
   ]
  },
  {
   "cell_type": "markdown",
   "metadata": {},
   "source": [
    "Rellenando las columnas categoricas que contienen valores vacios"
   ]
  },
  {
   "cell_type": "code",
   "execution_count": 139,
   "metadata": {},
   "outputs": [],
   "source": [
    "def refillUnknown(data,columns):\n",
    "    for col in columns:\n",
    "        if data[col].isna().sum() >0:\n",
    "            #data[f'{col}Missing']=data[col].isnull()\n",
    "            data[col]=data[col].fillna('Unkown')"
   ]
  },
  {
   "cell_type": "code",
   "execution_count": 140,
   "metadata": {},
   "outputs": [],
   "source": [
    "refillUnknown(all_data,columnas_categoricas)"
   ]
  },
  {
   "cell_type": "code",
   "execution_count": 141,
   "metadata": {},
   "outputs": [],
   "source": [
    "all_data=pd.get_dummies(all_data)"
   ]
  },
  {
   "cell_type": "code",
   "execution_count": 142,
   "metadata": {},
   "outputs": [
    {
     "data": {
      "text/html": [
       "<div>\n",
       "<style scoped>\n",
       "    .dataframe tbody tr th:only-of-type {\n",
       "        vertical-align: middle;\n",
       "    }\n",
       "\n",
       "    .dataframe tbody tr th {\n",
       "        vertical-align: top;\n",
       "    }\n",
       "\n",
       "    .dataframe thead th {\n",
       "        text-align: right;\n",
       "    }\n",
       "</style>\n",
       "<table border=\"1\" class=\"dataframe\">\n",
       "  <thead>\n",
       "    <tr style=\"text-align: right;\">\n",
       "      <th></th>\n",
       "      <th>Installs</th>\n",
       "      <th>Price</th>\n",
       "      <th>Reviews</th>\n",
       "      <th>Size</th>\n",
       "      <th>Month_updated</th>\n",
       "      <th>Year_updated</th>\n",
       "      <th>Android Ver_1.0</th>\n",
       "      <th>Android Ver_1.5</th>\n",
       "      <th>Android Ver_1.6</th>\n",
       "      <th>Android Ver_2.0</th>\n",
       "      <th>...</th>\n",
       "      <th>Genres_Travel &amp; Local</th>\n",
       "      <th>Genres_Travel &amp; Local;Action &amp; Adventure</th>\n",
       "      <th>Genres_Trivia</th>\n",
       "      <th>Genres_Video Players &amp; Editors</th>\n",
       "      <th>Genres_Video Players &amp; Editors;Creativity</th>\n",
       "      <th>Genres_Video Players &amp; Editors;Music &amp; Video</th>\n",
       "      <th>Genres_Weather</th>\n",
       "      <th>Genres_Word</th>\n",
       "      <th>Type_Free</th>\n",
       "      <th>Type_Paid</th>\n",
       "    </tr>\n",
       "  </thead>\n",
       "  <tbody>\n",
       "    <tr>\n",
       "      <th>0</th>\n",
       "      <td>13.815512</td>\n",
       "      <td>0.000000</td>\n",
       "      <td>9.247925</td>\n",
       "      <td>9.438679</td>\n",
       "      <td>7</td>\n",
       "      <td>2018</td>\n",
       "      <td>0</td>\n",
       "      <td>0</td>\n",
       "      <td>0</td>\n",
       "      <td>0</td>\n",
       "      <td>...</td>\n",
       "      <td>0</td>\n",
       "      <td>0</td>\n",
       "      <td>0</td>\n",
       "      <td>0</td>\n",
       "      <td>0</td>\n",
       "      <td>0</td>\n",
       "      <td>0</td>\n",
       "      <td>0</td>\n",
       "      <td>1</td>\n",
       "      <td>0</td>\n",
       "    </tr>\n",
       "    <tr>\n",
       "      <th>1</th>\n",
       "      <td>8.517393</td>\n",
       "      <td>0.000000</td>\n",
       "      <td>3.761200</td>\n",
       "      <td>6.318968</td>\n",
       "      <td>5</td>\n",
       "      <td>2017</td>\n",
       "      <td>0</td>\n",
       "      <td>0</td>\n",
       "      <td>0</td>\n",
       "      <td>0</td>\n",
       "      <td>...</td>\n",
       "      <td>0</td>\n",
       "      <td>0</td>\n",
       "      <td>0</td>\n",
       "      <td>0</td>\n",
       "      <td>0</td>\n",
       "      <td>0</td>\n",
       "      <td>0</td>\n",
       "      <td>0</td>\n",
       "      <td>1</td>\n",
       "      <td>0</td>\n",
       "    </tr>\n",
       "    <tr>\n",
       "      <th>2</th>\n",
       "      <td>11.512935</td>\n",
       "      <td>0.000000</td>\n",
       "      <td>8.020928</td>\n",
       "      <td>8.972819</td>\n",
       "      <td>6</td>\n",
       "      <td>2017</td>\n",
       "      <td>0</td>\n",
       "      <td>0</td>\n",
       "      <td>0</td>\n",
       "      <td>0</td>\n",
       "      <td>...</td>\n",
       "      <td>0</td>\n",
       "      <td>0</td>\n",
       "      <td>0</td>\n",
       "      <td>0</td>\n",
       "      <td>0</td>\n",
       "      <td>0</td>\n",
       "      <td>0</td>\n",
       "      <td>0</td>\n",
       "      <td>1</td>\n",
       "      <td>0</td>\n",
       "    </tr>\n",
       "    <tr>\n",
       "      <th>3</th>\n",
       "      <td>10.819798</td>\n",
       "      <td>2.396986</td>\n",
       "      <td>8.602086</td>\n",
       "      <td>9.704122</td>\n",
       "      <td>6</td>\n",
       "      <td>2018</td>\n",
       "      <td>0</td>\n",
       "      <td>0</td>\n",
       "      <td>0</td>\n",
       "      <td>0</td>\n",
       "      <td>...</td>\n",
       "      <td>0</td>\n",
       "      <td>0</td>\n",
       "      <td>0</td>\n",
       "      <td>0</td>\n",
       "      <td>0</td>\n",
       "      <td>0</td>\n",
       "      <td>0</td>\n",
       "      <td>0</td>\n",
       "      <td>0</td>\n",
       "      <td>1</td>\n",
       "    </tr>\n",
       "    <tr>\n",
       "      <th>4</th>\n",
       "      <td>13.815512</td>\n",
       "      <td>0.000000</td>\n",
       "      <td>10.684600</td>\n",
       "      <td>9.438679</td>\n",
       "      <td>8</td>\n",
       "      <td>2017</td>\n",
       "      <td>0</td>\n",
       "      <td>0</td>\n",
       "      <td>0</td>\n",
       "      <td>0</td>\n",
       "      <td>...</td>\n",
       "      <td>0</td>\n",
       "      <td>0</td>\n",
       "      <td>0</td>\n",
       "      <td>0</td>\n",
       "      <td>0</td>\n",
       "      <td>0</td>\n",
       "      <td>0</td>\n",
       "      <td>0</td>\n",
       "      <td>1</td>\n",
       "      <td>0</td>\n",
       "    </tr>\n",
       "  </tbody>\n",
       "</table>\n",
       "<p>5 rows × 190 columns</p>\n",
       "</div>"
      ],
      "text/plain": [
       "    Installs     Price    Reviews      Size  Month_updated  Year_updated  \\\n",
       "0  13.815512  0.000000   9.247925  9.438679              7          2018   \n",
       "1   8.517393  0.000000   3.761200  6.318968              5          2017   \n",
       "2  11.512935  0.000000   8.020928  8.972819              6          2017   \n",
       "3  10.819798  2.396986   8.602086  9.704122              6          2018   \n",
       "4  13.815512  0.000000  10.684600  9.438679              8          2017   \n",
       "\n",
       "   Android Ver_1.0  Android Ver_1.5  Android Ver_1.6  Android Ver_2.0  ...  \\\n",
       "0                0                0                0                0  ...   \n",
       "1                0                0                0                0  ...   \n",
       "2                0                0                0                0  ...   \n",
       "3                0                0                0                0  ...   \n",
       "4                0                0                0                0  ...   \n",
       "\n",
       "   Genres_Travel & Local  Genres_Travel & Local;Action & Adventure  \\\n",
       "0                      0                                         0   \n",
       "1                      0                                         0   \n",
       "2                      0                                         0   \n",
       "3                      0                                         0   \n",
       "4                      0                                         0   \n",
       "\n",
       "   Genres_Trivia  Genres_Video Players & Editors  \\\n",
       "0              0                               0   \n",
       "1              0                               0   \n",
       "2              0                               0   \n",
       "3              0                               0   \n",
       "4              0                               0   \n",
       "\n",
       "   Genres_Video Players & Editors;Creativity  \\\n",
       "0                                          0   \n",
       "1                                          0   \n",
       "2                                          0   \n",
       "3                                          0   \n",
       "4                                          0   \n",
       "\n",
       "   Genres_Video Players & Editors;Music & Video  Genres_Weather  Genres_Word  \\\n",
       "0                                             0               0            0   \n",
       "1                                             0               0            0   \n",
       "2                                             0               0            0   \n",
       "3                                             0               0            0   \n",
       "4                                             0               0            0   \n",
       "\n",
       "   Type_Free  Type_Paid  \n",
       "0          1          0  \n",
       "1          1          0  \n",
       "2          1          0  \n",
       "3          0          1  \n",
       "4          1          0  \n",
       "\n",
       "[5 rows x 190 columns]"
      ]
     },
     "execution_count": 142,
     "metadata": {},
     "output_type": "execute_result"
    }
   ],
   "source": [
    "all_data.head()"
   ]
  },
  {
   "cell_type": "markdown",
   "metadata": {},
   "source": [
    "Separando la data en entrenamiento y prueba"
   ]
  },
  {
   "cell_type": "code",
   "execution_count": 143,
   "metadata": {},
   "outputs": [],
   "source": [
    "#creating matrices for sklearn:\n",
    "X_to_train = all_data[:train_df.shape[0]]\n",
    "X_test = all_data[train_df.shape[0]:]\n",
    "y=train_df.Rating\n",
    "y_transform = np.log1p(train_df.Rating)"
   ]
  },
  {
   "cell_type": "code",
   "execution_count": 144,
   "metadata": {},
   "outputs": [
    {
     "data": {
      "text/plain": [
       "0    3.7\n",
       "1    4.3\n",
       "2    3.9\n",
       "3    4.3\n",
       "4    4.2\n",
       "Name: Rating, dtype: float64"
      ]
     },
     "execution_count": 144,
     "metadata": {},
     "output_type": "execute_result"
    }
   ],
   "source": [
    "y.head()"
   ]
  },
  {
   "cell_type": "code",
   "execution_count": 189,
   "metadata": {},
   "outputs": [],
   "source": [
    "from sklearn.model_selection import train_test_split\n",
    "X_train,X_validation,y_train,y_validation=train_test_split(X_to_train,y,test_size=0.1,random_state=2019)"
   ]
  },
  {
   "cell_type": "code",
   "execution_count": 190,
   "metadata": {},
   "outputs": [
    {
     "data": {
      "text/plain": [
       "LinearRegression(copy_X=True, fit_intercept=True, n_jobs=None, normalize=False)"
      ]
     },
     "execution_count": 190,
     "metadata": {},
     "output_type": "execute_result"
    }
   ],
   "source": [
    "from sklearn.linear_model import LinearRegression\n",
    "\n",
    "lr = LinearRegression()\n",
    "lr.fit(X_train, y_train)"
   ]
  },
  {
   "cell_type": "code",
   "execution_count": 191,
   "metadata": {},
   "outputs": [
    {
     "data": {
      "text/plain": [
       "(0.21528523975419167, 493720217240650.3)"
      ]
     },
     "execution_count": 191,
     "metadata": {},
     "output_type": "execute_result"
    }
   ],
   "source": [
    "from sklearn.metrics import mean_squared_error, r2_score\n",
    "y_train_pred = lr.predict(X_train)\n",
    "\n",
    "y_validation_pred=lr.predict(X_validation)\n",
    "\n",
    "mean_squared_error(y_train, y_train_pred),mean_squared_error(y_validation, y_validation_pred)\n",
    "#0.2196"
   ]
  },
  {
   "cell_type": "code",
   "execution_count": 192,
   "metadata": {},
   "outputs": [
    {
     "data": {
      "text/plain": [
       "((1856, 190), (1856, 12))"
      ]
     },
     "execution_count": 192,
     "metadata": {},
     "output_type": "execute_result"
    }
   ],
   "source": [
    "X_test.shape,test_df.shape"
   ]
  },
  {
   "cell_type": "code",
   "execution_count": 193,
   "metadata": {},
   "outputs": [],
   "source": [
    "from sklearn.linear_model import Ridge, RidgeCV, ElasticNet, LassoCV, LassoLarsCV,Lasso\n",
    "model_ridge = Ridge(alpha=20,random_state=2019).fit(X_train,y_train)"
   ]
  },
  {
   "cell_type": "code",
   "execution_count": 194,
   "metadata": {},
   "outputs": [
    {
     "data": {
      "text/plain": [
       "(0.21684886717071492, 0.20937797866055866)"
      ]
     },
     "execution_count": 194,
     "metadata": {},
     "output_type": "execute_result"
    }
   ],
   "source": [
    "y_train_pred = model_ridge.predict(X_train)\n",
    "\n",
    "y_validation_pred=model_ridge.predict(X_validation)\n",
    "\n",
    "mean_squared_error(y_train, y_train_pred),mean_squared_error(y_validation, y_validation_pred)\n",
    "#0.2194"
   ]
  },
  {
   "cell_type": "markdown",
   "metadata": {},
   "source": [
    "## **Creando el output**"
   ]
  },
  {
   "cell_type": "code",
   "execution_count": 183,
   "metadata": {},
   "outputs": [],
   "source": [
    "y_test_pred=model_ridge.predict(X_test)"
   ]
  },
  {
   "cell_type": "code",
   "execution_count": 184,
   "metadata": {},
   "outputs": [],
   "source": [
    "submission=pd.read_csv('files_nuevoReto/rating_sammple_submission.csv')"
   ]
  },
  {
   "cell_type": "code",
   "execution_count": 185,
   "metadata": {},
   "outputs": [
    {
     "data": {
      "text/html": [
       "<div>\n",
       "<style scoped>\n",
       "    .dataframe tbody tr th:only-of-type {\n",
       "        vertical-align: middle;\n",
       "    }\n",
       "\n",
       "    .dataframe tbody tr th {\n",
       "        vertical-align: top;\n",
       "    }\n",
       "\n",
       "    .dataframe thead th {\n",
       "        text-align: right;\n",
       "    }\n",
       "</style>\n",
       "<table border=\"1\" class=\"dataframe\">\n",
       "  <thead>\n",
       "    <tr style=\"text-align: right;\">\n",
       "      <th></th>\n",
       "      <th>Id</th>\n",
       "      <th>Rating</th>\n",
       "    </tr>\n",
       "  </thead>\n",
       "  <tbody>\n",
       "    <tr>\n",
       "      <th>0</th>\n",
       "      <td>0</td>\n",
       "      <td>0.0</td>\n",
       "    </tr>\n",
       "    <tr>\n",
       "      <th>1</th>\n",
       "      <td>1</td>\n",
       "      <td>0.0</td>\n",
       "    </tr>\n",
       "    <tr>\n",
       "      <th>2</th>\n",
       "      <td>2</td>\n",
       "      <td>0.0</td>\n",
       "    </tr>\n",
       "    <tr>\n",
       "      <th>3</th>\n",
       "      <td>3</td>\n",
       "      <td>0.0</td>\n",
       "    </tr>\n",
       "    <tr>\n",
       "      <th>4</th>\n",
       "      <td>4</td>\n",
       "      <td>0.0</td>\n",
       "    </tr>\n",
       "  </tbody>\n",
       "</table>\n",
       "</div>"
      ],
      "text/plain": [
       "   Id  Rating\n",
       "0   0     0.0\n",
       "1   1     0.0\n",
       "2   2     0.0\n",
       "3   3     0.0\n",
       "4   4     0.0"
      ]
     },
     "execution_count": 185,
     "metadata": {},
     "output_type": "execute_result"
    }
   ],
   "source": [
    "submission.head()"
   ]
  },
  {
   "cell_type": "code",
   "execution_count": 186,
   "metadata": {},
   "outputs": [],
   "source": [
    "submission['Rating']=y_test_pred"
   ]
  },
  {
   "cell_type": "code",
   "execution_count": 187,
   "metadata": {},
   "outputs": [],
   "source": [
    "submission.to_csv('nuevo_v2_ridgeModel_sample_submission.csv', index=False)"
   ]
  },
  {
   "cell_type": "code",
   "execution_count": 188,
   "metadata": {},
   "outputs": [
    {
     "data": {
      "text/plain": [
       "(1856, 2)"
      ]
     },
     "execution_count": 188,
     "metadata": {},
     "output_type": "execute_result"
    }
   ],
   "source": [
    "submission.shape"
   ]
  }
 ],
 "metadata": {
  "kernelspec": {
   "display_name": "Python [conda env:dataScience]",
   "language": "python",
   "name": "conda-env-dataScience-py"
  },
  "language_info": {
   "codemirror_mode": {
    "name": "ipython",
    "version": 3
   },
   "file_extension": ".py",
   "mimetype": "text/x-python",
   "name": "python",
   "nbconvert_exporter": "python",
   "pygments_lexer": "ipython3",
   "version": "3.7.3"
  }
 },
 "nbformat": 4,
 "nbformat_minor": 2
}
