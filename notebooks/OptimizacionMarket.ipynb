{
 "cells": [
  {
   "cell_type": "markdown",
   "metadata": {},
   "source": [
    "## **Proyecto final: Usando computación evolutiva para encontrar localizaciones optimas de una cadena de supermercados**"
   ]
  },
  {
   "cell_type": "markdown",
   "metadata": {},
   "source": [
    "**Importando las librerias necesarias**"
   ]
  },
  {
   "cell_type": "code",
   "execution_count": 1,
   "metadata": {},
   "outputs": [],
   "source": [
    "import pandas as pd\n",
    "import math\n",
    "import sys\n",
    "import time\n",
    "import numpy as np\n",
    "from random import shuffle, random, sample, randint, randrange, uniform\n",
    "from copy import deepcopy\n",
    "import matplotlib.pyplot as plt"
   ]
  },
  {
   "cell_type": "markdown",
   "metadata": {},
   "source": [
    "**Leyendo la informacion proporcionada**"
   ]
  },
  {
   "cell_type": "code",
   "execution_count": 2,
   "metadata": {},
   "outputs": [
    {
     "data": {
      "text/html": [
       "<div>\n",
       "<style scoped>\n",
       "    .dataframe tbody tr th:only-of-type {\n",
       "        vertical-align: middle;\n",
       "    }\n",
       "\n",
       "    .dataframe tbody tr th {\n",
       "        vertical-align: top;\n",
       "    }\n",
       "\n",
       "    .dataframe thead th {\n",
       "        text-align: right;\n",
       "    }\n",
       "</style>\n",
       "<table border=\"1\" class=\"dataframe\">\n",
       "  <thead>\n",
       "    <tr style=\"text-align: right;\">\n",
       "      <th></th>\n",
       "      <th>ID</th>\n",
       "      <th>Descripcion</th>\n",
       "      <th>Latitud</th>\n",
       "      <th>Longitud</th>\n",
       "      <th>Poblacion500m</th>\n",
       "    </tr>\n",
       "  </thead>\n",
       "  <tbody>\n",
       "    <tr>\n",
       "      <th>0</th>\n",
       "      <td>Punto 1</td>\n",
       "      <td>Esq. Benavides con Nicolas Dueñas</td>\n",
       "      <td>-12.04861</td>\n",
       "      <td>-77.06496</td>\n",
       "      <td>16500</td>\n",
       "    </tr>\n",
       "    <tr>\n",
       "      <th>1</th>\n",
       "      <td>Ponto 2</td>\n",
       "      <td>Sta Bernardita con Republica de Venezuela</td>\n",
       "      <td>-12.05956</td>\n",
       "      <td>-77.07583</td>\n",
       "      <td>18000</td>\n",
       "    </tr>\n",
       "    <tr>\n",
       "      <th>2</th>\n",
       "      <td>Ponto 3</td>\n",
       "      <td>Santa Susana con Santa Gertrudis</td>\n",
       "      <td>-12.06524</td>\n",
       "      <td>-77.07334</td>\n",
       "      <td>17000</td>\n",
       "    </tr>\n",
       "    <tr>\n",
       "      <th>3</th>\n",
       "      <td>Ponto 4</td>\n",
       "      <td>Belizario Sosa Pelaez</td>\n",
       "      <td>-12.05998</td>\n",
       "      <td>-77.06300</td>\n",
       "      <td>15000</td>\n",
       "    </tr>\n",
       "    <tr>\n",
       "      <th>4</th>\n",
       "      <td>Ponto 5</td>\n",
       "      <td>Esq. Aurelio Garcia y Miranono Arredondo</td>\n",
       "      <td>-12.05541</td>\n",
       "      <td>-77.07497</td>\n",
       "      <td>17100</td>\n",
       "    </tr>\n",
       "  </tbody>\n",
       "</table>\n",
       "</div>"
      ],
      "text/plain": [
       "        ID                                Descripcion   Latitud  Longitud  \\\n",
       "0  Punto 1          Esq. Benavides con Nicolas Dueñas -12.04861 -77.06496   \n",
       "1  Ponto 2  Sta Bernardita con Republica de Venezuela -12.05956 -77.07583   \n",
       "2  Ponto 3           Santa Susana con Santa Gertrudis -12.06524 -77.07334   \n",
       "3  Ponto 4                      Belizario Sosa Pelaez -12.05998 -77.06300   \n",
       "4  Ponto 5   Esq. Aurelio Garcia y Miranono Arredondo -12.05541 -77.07497   \n",
       "\n",
       "   Poblacion500m  \n",
       "0          16500  \n",
       "1          18000  \n",
       "2          17000  \n",
       "3          15000  \n",
       "4          17100  "
      ]
     },
     "execution_count": 2,
     "metadata": {},
     "output_type": "execute_result"
    }
   ],
   "source": [
    "dataset=pd.read_excel('UbicacionSupermercados/Candidatos_supermercados.xlsx')\n",
    "dataset.head()"
   ]
  },
  {
   "cell_type": "markdown",
   "metadata": {},
   "source": [
    "**Obj:Escoger los supermercados de manera que se maximice la suma de la población\n",
    "que vive a 500m alrededor de los supermercados y la suma de las distancias entre los\n",
    "supermercados escogidos.**"
   ]
  },
  {
   "cell_type": "code",
   "execution_count": 3,
   "metadata": {},
   "outputs": [],
   "source": [
    "class Market(object):\n",
    "    def __init__(self,ID,descr,pob,latitud,longitud):\n",
    "        self.id=ID\n",
    "        self.descr=descr\n",
    "        self.pob=pob\n",
    "        self.lat=latitud\n",
    "        self.lon=longitud"
   ]
  },
  {
   "cell_type": "code",
   "execution_count": 4,
   "metadata": {},
   "outputs": [],
   "source": [
    "\n",
    "class Individual:\n",
    "    \"\"\" Implementa el individuo del AG. Un individuo tiene un cromosoma que es una lista de num_markets elementos (genes),\n",
    "       cada gen i puede asumir dos posibles alelos: 0 o 1 (no incluir/incluir en la mochila el item i del pool) \"\"\"\n",
    "\n",
    "    def __init__(self, chromosome,maxMark=10):  # el constructor recibe un cromosoma\n",
    "        self.chromosome = chromosome[:]  \n",
    "        self.fitness = -1  # -1 indica que el individuo no ha sido evaluado\n",
    "        self.maxMark=maxMark\n",
    "\n",
    "    def crossover_onepoint(self, other):\n",
    "        \"Retorna dos nuevos individuos del cruzamiento de un punto entre individuos self y other \"\n",
    "        c = randrange(len(self.chromosome))\n",
    "        ind1 = Individual(self.chromosome[:c] + other.chromosome[c:],self.maxMark)\n",
    "        ind2 = Individual(other.chromosome[:c] + self.chromosome[c:],self.maxMark)\n",
    "        ind1,ind2=self.__verify([ind1,ind2])\n",
    "        return [ind1, ind2]   \n",
    "    \n",
    "    def crossover_uniform(self, other):\n",
    "        chromosome1 = []\n",
    "        chromosome2 = []\n",
    "        \"Retorna dos nuevos individuos del cruzamiento uniforme entre self y other \"\n",
    "        for i in range(len(self.chromosome)):\n",
    "            if uniform(0, 1) < 0.5:\n",
    "                chromosome1.append(self.chromosome[i])\n",
    "                chromosome2.append(other.chromosome[i])\n",
    "            else:\n",
    "                chromosome1.append(other.chromosome[i])\n",
    "                chromosome2.append(self.chromosome[i])\n",
    "        ind1 = Individual(chromosome1,self.maxMark)\n",
    "        ind2 = Individual(chromosome2,self.maxMark)\n",
    "        ind1,ind2=self.__verify([ind1,ind2])\n",
    "        return [ind1, ind2] \n",
    "    \n",
    "    #Es necesario aplicar mutacion ? Porque la funcion __verify tambien introduce exploracion al cambiar los bits aleatoriamente\n",
    "    def mutation_flip(self):\n",
    "        \"Cambia aleatoriamente el alelo de un gen.\"\n",
    "        new_chromosome = deepcopy(self.chromosome)\n",
    "        mutGene = randrange(0,len(new_chromosome))   # escoge un gen para mutar\n",
    "        if new_chromosome[mutGene] == 0:\n",
    "            #Cambiaremos un cero a un uno, por lo que habrá un uno mas, por lo que se deberá cambiar otro uno a cero\n",
    "            index_unos=[i for i in range(len(new_chromosome)) if new_chromosome[i] == 1]\n",
    "            index_uno=sample(index_unos,1) #Obtenemos un index de todos los unos para cambiarlo a cero\n",
    "            new_chromosome[mutGene] = 1 #Cambiamos a uno un cero\n",
    "            new_chromosome[index_uno[0]]=0 #Cambiamos a cero un uno\n",
    "        else:\n",
    "            index_ceros=[i for i in range(len(new_chromosome)) if new_chromosome[i] == 0]\n",
    "            index_cero=sample(index_ceros,1) #Obtenemos un index de todos los unos para cambiarlo a cero\n",
    "            new_chromosome[mutGene] = 0 #Compensamos\n",
    "            new_chromosome[index_cero[0]]=1 #Cambiamos a uno un cero\n",
    "            \n",
    "        return Individual(new_chromosome,self.maxMark)\n",
    "        \n",
    "    \n",
    "    def __verify(self,individuos):\n",
    "        \"\"\"Funcion para forzar que existan 10 unos dentro del cromosoma\n",
    "        \"\"\"\n",
    "        resultado=[]\n",
    "        for ind in individuos:\n",
    "            #resta_unos=longitud - 10 if longitud > 10 else 10 - longitud\n",
    "            cant_unos=ind.chromosome.count(1)\n",
    "            index_unos=[i for i in range(len(ind.chromosome)) if ind.chromosome[i] == 1] #Obtenemos los index de los unos dentro del cromosoma\n",
    "            if cant_unos >self.maxMark: #Verificando si el individuo tiene mas de 10 unos\n",
    "                #index_unos=[i for i in range(len(ind.chromosome)) if ind.chromosome[i] == 1] #Obtenemos los index de los unos dentro del cromosoma\n",
    "                index_unos2chg=sample(index_unos,cant_unos - self.maxMark)# Obtenemos los index que cambiaremos a cero porque se pasó de 10\n",
    "                for index in index_unos2chg:\n",
    "                    ind.chromosome[index]=0\n",
    "            elif cant_unos < self.maxMark: #Si el individuo tiene menos de 10 unos \n",
    "                #index_unos=[i for i in range(len(ind.chromosome)) if ind.chromosome[i] == 1]\n",
    "                index_unos2chg=set(range(len(ind.chromosome))) - set(index_unos) #Quitamos los index en los cuales se encuentran los unos\n",
    "                random_index=sample(index_unos2chg,self.maxMark - cant_unos) #Generamos index aletorios para completar a 10\n",
    "                for index in random_index:\n",
    "                    ind.chromosome[index]=1\n",
    "            resultado.append(ind)\n",
    "        return resultado\n"
   ]
  },
  {
   "cell_type": "markdown",
   "metadata": {},
   "source": [
    "**Prueba del crossover_onepoint**"
   ]
  },
  {
   "cell_type": "code",
   "execution_count": 5,
   "metadata": {},
   "outputs": [],
   "source": [
    "individuo1=Individual([1,1,0,1,1,1,0,1,1,1,0,0,1,1,0])\n",
    "individuo2=Individual([1,1,1,1,1,0,0,0,0,0,1,1,1,1,1])"
   ]
  },
  {
   "cell_type": "code",
   "execution_count": 6,
   "metadata": {},
   "outputs": [],
   "source": [
    "hijo1,hijo2=individuo1.crossover_onepoint(individuo2)"
   ]
  },
  {
   "cell_type": "code",
   "execution_count": 7,
   "metadata": {},
   "outputs": [
    {
     "data": {
      "text/plain": [
       "[1, 1, 0, 1, 1, 0, 0, 1, 0, 0, 1, 1, 1, 1, 1]"
      ]
     },
     "execution_count": 7,
     "metadata": {},
     "output_type": "execute_result"
    }
   ],
   "source": [
    "hijo1.chromosome"
   ]
  },
  {
   "cell_type": "code",
   "execution_count": 8,
   "metadata": {},
   "outputs": [
    {
     "data": {
      "text/plain": [
       "[0, 1, 1, 1, 1, 1, 0, 1, 1, 1, 0, 0, 1, 1, 0]"
      ]
     },
     "execution_count": 8,
     "metadata": {},
     "output_type": "execute_result"
    }
   ],
   "source": [
    "hijo2.chromosome"
   ]
  },
  {
   "cell_type": "markdown",
   "metadata": {},
   "source": [
    "**Prueba de la mutacion**"
   ]
  },
  {
   "cell_type": "code",
   "execution_count": 9,
   "metadata": {},
   "outputs": [
    {
     "data": {
      "text/plain": [
       "[1, 1, 0, 1, 1, 0, 0, 0, 0, 1, 1, 1, 1, 1, 1]"
      ]
     },
     "execution_count": 9,
     "metadata": {},
     "output_type": "execute_result"
    }
   ],
   "source": [
    "hijo_mutado=hijo1.mutation_flip()\n",
    "hijo_mutado.chromosome"
   ]
  },
  {
   "cell_type": "code",
   "execution_count": 10,
   "metadata": {},
   "outputs": [
    {
     "data": {
      "text/plain": [
       "[0, 1, 1, 1, 1, 1, 0, 1, 1, 0, 1, 0, 1, 1, 0]"
      ]
     },
     "execution_count": 10,
     "metadata": {},
     "output_type": "execute_result"
    }
   ],
   "source": [
    "hijo_mutado2=hijo2.mutation_flip()\n",
    "hijo_mutado2.chromosome"
   ]
  },
  {
   "cell_type": "code",
   "execution_count": 11,
   "metadata": {},
   "outputs": [],
   "source": [
    "def get_fitness(chromosome, markets):\n",
    "    \"\"\"Retorna el fitness del cromosoma pasado. Fitness es el valor total de los markets incluidos en el cromosoma\n",
    "        \"\"\"\n",
    "    fitness = 0 # initialize fitness to 0\n",
    "    lista_distancias=[]\n",
    "    sum_pob=0\n",
    "    sum_dist=0\n",
    "    for i in range(len(markets)):\n",
    "        if chromosome[i] == 1:  # si el market i esta incluido en el cromosoma, acumula su poblacion y distancia\n",
    "            sum_pob += markets[i].pob\n",
    "            lista_distancias.append((markets[i].lat,markets[i].lon))\n",
    "            \n",
    "    radio_tierra=6378 #radio ecuatorial\n",
    "    for i in range(len(lista_distancias)):\n",
    "        for j in lista_distancias[i+1:]:\n",
    "            dif_lat=j[0] - lista_distancias[i][0] #Hallamos la diferencia de latitud\n",
    "            dif_lon=j[1] - lista_distancias[i][1] #Hallamos la diferencia de longitud\n",
    "            a=pow(math.sin(dif_lat/2),2)+(math.cos(lista_distancias[i][0])*(math.cos(j[0])))*pow(math.sin(dif_lon/2),2)\n",
    "            c=2*math.asin(min(1,math.sqrt(a)))\n",
    "            sum_dist+=radio_tierra * c \n",
    "    fitness=sum_pob + sum_dist\n",
    "    \n",
    "    return fitness"
   ]
  },
  {
   "cell_type": "code",
   "execution_count": 12,
   "metadata": {},
   "outputs": [],
   "source": [
    "def evaluate_population(population, markets):\n",
    "    \"\"\" Evalua una poblacion de individuos con la funcion get_fitness \"\"\"\n",
    "    pop_size = len(population)\n",
    "    for i in range(pop_size):\n",
    "        if population[i].fitness == -1:    # evalua solo si el individuo no esta evaluado\n",
    "            population[i].fitness = get_fitness(population[i].chromosome, markets)"
   ]
  },
  {
   "cell_type": "code",
   "execution_count": 13,
   "metadata": {},
   "outputs": [],
   "source": [
    "def init_population(pop_size, chromosome_size=60,maxMark=10):\n",
    "    \"\"\"Inicializa una poblacion de pop_size individuos, cada cromosoma de individuo de tamaño chromosome_size.\n",
    "       \"\"\"\n",
    "    population = []\n",
    "    for i in range(pop_size):\n",
    "        index_unos=sample(range(chromosome_size),maxMark)\n",
    "        new_chromosome=[0 if i not in index_unos else 1 for i in range(chromosome_size)]\n",
    "        population.append( Individual(new_chromosome) )\n",
    "    return population"
   ]
  },
  {
   "cell_type": "code",
   "execution_count": 14,
   "metadata": {},
   "outputs": [],
   "source": [
    "def select_parents_roulette(population):\n",
    "    pop_size = len(population)\n",
    "    \n",
    "    # Escoje el primer padre\n",
    "    sumfitness = sum([indiv.fitness for indiv in population])  # suma total del fitness de la poblacion\n",
    "    pickfitness = uniform(0, sumfitness)   # escoge un numero aleatorio entre 0 y sumfitness\n",
    "    cumfitness = 0     # fitness acumulado\n",
    "    for i in range(pop_size):\n",
    "        cumfitness += population[i].fitness\n",
    "        if cumfitness > pickfitness: \n",
    "            iParent1 = i\n",
    "            break\n",
    "    \n",
    "    # Escoje el segundo padre, desconsiderando el primer padre\n",
    "    sumfitness = sumfitness - population[iParent1].fitness # retira el fitness del padre ya escogido\n",
    "    pickfitness = uniform(0, sumfitness)   # escoge un numero aleatorio entre 0 y sumfitness\n",
    "    cumfitness = 0     # fitness acumulado\n",
    "    for i in range(pop_size):\n",
    "        if i == iParent1: continue   # si es el primer padre \n",
    "        cumfitness += population[i].fitness\n",
    "        if cumfitness > pickfitness: \n",
    "            iParent2 = i\n",
    "            break        \n",
    "    return (population[iParent1], population[iParent2])"
   ]
  },
  {
   "cell_type": "code",
   "execution_count": 15,
   "metadata": {},
   "outputs": [],
   "source": [
    "def sus(poblacion,num_padres):\n",
    "    poblacion_local=poblacion[:]\n",
    "    padres=[]\n",
    "    fitness_total=sum([chromosome.fitness for chromosome in poblacion_local])\n",
    "    agujas=np.linspace(0,fitness_total,num_padres+1)\n",
    "    r_aleatorios=[int(uniform(agujas[i],agujas[i+1])) for i in range(len(agujas)-1)]\n",
    "    for r in r_aleatorios:\n",
    "        fitness_acumulado=0\n",
    "        for chromosome in poblacion_local:\n",
    "            fitness_acumulado+=chromosome.fitness\n",
    "            if fitness_acumulado >= r:\n",
    "                padres.append(chromosome)\n",
    "                break\n",
    "                \n",
    "    return padres"
   ]
  },
  {
   "cell_type": "code",
   "execution_count": 16,
   "metadata": {},
   "outputs": [],
   "source": [
    "def select_survivors(population, offspring_population, numsurvivors):\n",
    "    next_population = []\n",
    "    population.extend(offspring_population) # une las dos poblaciones\n",
    "    isurvivors = sorted(range(len(population)), key=lambda i: population[i].fitness, reverse=True)[:numsurvivors]\n",
    "    for i in range(numsurvivors):\n",
    "        next_population.append(population[isurvivors[i]])\n",
    "    return next_population"
   ]
  },
  {
   "cell_type": "code",
   "execution_count": 22,
   "metadata": {},
   "outputs": [],
   "source": [
    "def genetic_algorithm(population, markets, ngen=100, pmut=0.1, crossover=\"onepoint\", mutation=\"flip\",select='roulette'):\n",
    "    \n",
    "    pop_size = len(population)\n",
    "    evaluate_population(population, markets)  # evalua la poblacion inicial\n",
    "    ibest = sorted(range(len(population)), key=lambda i: population[i].fitness, reverse=True)[:1]  # mejor individuo\n",
    "    bestfitness = [population[ibest[0]].fitness]  # fitness del mejor individuo\n",
    "    print(\"Poblacion inicial, best_fitness = {}\".format(population[ibest[0]].fitness))\n",
    "    \n",
    "    for g in range(ngen):   # Por cada generacion\n",
    "\n",
    "        ## Selecciona parejas de individuos (mating_pool) para cruzamiento con el metodo de la ruleta\n",
    "        mating_pool = []\n",
    "        if select == 'roulette':\n",
    "            for i in range(int(pop_size/2)): mating_pool.append(select_parents_roulette(population)) \n",
    "        elif select == 'sus':\n",
    "            for i in range(int(pop_size/2)): mating_pool.append(sus(population,2)) \n",
    "        \n",
    "        ## Crea la poblacion descendencia cruzando las parejas del mating pool \n",
    "        offspring_population = []\n",
    "        for i in range(len(mating_pool)): \n",
    "            if crossover == \"onepoint\":\n",
    "                offspring_population.extend( mating_pool[i][0].crossover_onepoint(mating_pool[i][1]) ) # cruzamiento 1 punto\n",
    "            elif crossover == \"uniform\":\n",
    "                offspring_population.extend( mating_pool[i][0].crossover_uniform(mating_pool[i][1]) ) # cruzamiento uniforme\n",
    "            else:\n",
    "                raise NotImplementedError\n",
    "\n",
    "        ## Aplica el operador de mutacion con probabilidad pmut en cada hijo generado\n",
    "        for i in range(len(offspring_population)):\n",
    "            if uniform(0, 1) < pmut: \n",
    "                if mutation == \"flip\":\n",
    "                    offspring_population[i] = offspring_population[i].mutation_flip() # cambia el alelo de un gen\n",
    "                else:\n",
    "                    raise NotImplementedError   \n",
    "        \n",
    "        ## Evalua la poblacion descendencia creada\n",
    "        evaluate_population(offspring_population, markets)   # evalua la poblacion descendencia\n",
    "        \n",
    "        ## Selecciona pop_size individuos para la sgte. generación de la union de la pob. actual y  pob. descendencia\n",
    "        population = select_survivors(population, offspring_population, pop_size)\n",
    "\n",
    "        ## Almacena la historia del fitness del mejor individuo\n",
    "        ibest = sorted(range(len(population)), key=lambda i: population[i].fitness, reverse=True)[:1]\n",
    "        bestfitness.append(population[ibest[0]].fitness)\n",
    "        \n",
    "        if (g % 10 == 0):  # muestra resultados cada 10 generaciones\n",
    "            print(\"generacion {}, Mejor fitness = {})\".format(g, population[ibest[0]].fitness))\n",
    "        \n",
    "    print(\"Mejor individuo en la ultima generacion = {} (fitness = {})\".format(population[ibest[0]].chromosome, population[ibest[0]].fitness))\n",
    "    return population[ibest[0]], bestfitness  # devuelve el mejor individuo y la lista de mejores fitness x gen"
   ]
  },
  {
   "cell_type": "code",
   "execution_count": 18,
   "metadata": {},
   "outputs": [
    {
     "data": {
      "text/plain": [
       "60"
      ]
     },
     "execution_count": 18,
     "metadata": {},
     "output_type": "execute_result"
    }
   ],
   "source": [
    "len(dataset)"
   ]
  },
  {
   "cell_type": "code",
   "execution_count": 19,
   "metadata": {},
   "outputs": [],
   "source": [
    "marketPool=[]\n",
    "for i in range(len(dataset)):\n",
    "    ID=dataset.iloc[i].ID\n",
    "    descp=dataset.iloc[i].Descripcion\n",
    "    lat=dataset.iloc[i].Latitud\n",
    "    lon=dataset.iloc[i].Longitud\n",
    "    pob=dataset.iloc[i].Poblacion500m\n",
    "    marketPool.append(Market(ID,descp,lat,lon,pob))"
   ]
  },
  {
   "cell_type": "code",
   "execution_count": 20,
   "metadata": {},
   "outputs": [
    {
     "data": {
      "text/plain": [
       "'Punto 1'"
      ]
     },
     "execution_count": 20,
     "metadata": {},
     "output_type": "execute_result"
    }
   ],
   "source": [
    "marketPool[0].id"
   ]
  },
  {
   "cell_type": "code",
   "execution_count": 25,
   "metadata": {},
   "outputs": [
    {
     "name": "stdout",
     "output_type": "stream",
     "text": [
      "Poblacion inicial, best_fitness = 34978.706185324016\n",
      "generacion 0, Mejor fitness = 37031.50284586476)\n",
      "generacion 10, Mejor fitness = 41763.58828323114)\n",
      "generacion 20, Mejor fitness = 42007.06713079557)\n",
      "generacion 30, Mejor fitness = 42133.5575480639)\n",
      "generacion 40, Mejor fitness = 42133.5575480639)\n",
      "generacion 50, Mejor fitness = 42133.5575480639)\n",
      "generacion 60, Mejor fitness = 42133.5575480639)\n",
      "generacion 70, Mejor fitness = 42133.5575480639)\n",
      "generacion 80, Mejor fitness = 42133.5575480639)\n",
      "generacion 90, Mejor fitness = 42133.5575480639)\n",
      "generacion 100, Mejor fitness = 42133.5575480639)\n",
      "generacion 110, Mejor fitness = 42133.5575480639)\n",
      "generacion 120, Mejor fitness = 42133.5575480639)\n",
      "generacion 130, Mejor fitness = 42133.5575480639)\n",
      "generacion 140, Mejor fitness = 42133.5575480639)\n",
      "generacion 150, Mejor fitness = 42133.5575480639)\n",
      "generacion 160, Mejor fitness = 42133.5575480639)\n",
      "generacion 170, Mejor fitness = 42133.5575480639)\n",
      "generacion 180, Mejor fitness = 42133.5575480639)\n",
      "generacion 190, Mejor fitness = 42133.5575480639)\n",
      "generacion 200, Mejor fitness = 42133.5575480639)\n",
      "generacion 210, Mejor fitness = 42133.5575480639)\n",
      "generacion 220, Mejor fitness = 42133.5575480639)\n",
      "generacion 230, Mejor fitness = 42133.5575480639)\n",
      "generacion 240, Mejor fitness = 42133.5575480639)\n",
      "generacion 250, Mejor fitness = 42133.5575480639)\n",
      "generacion 260, Mejor fitness = 42133.5575480639)\n",
      "generacion 270, Mejor fitness = 42133.5575480639)\n",
      "generacion 280, Mejor fitness = 42133.5575480639)\n",
      "generacion 290, Mejor fitness = 42133.5575480639)\n",
      "generacion 300, Mejor fitness = 42133.5575480639)\n",
      "generacion 310, Mejor fitness = 42133.5575480639)\n",
      "generacion 320, Mejor fitness = 42133.5575480639)\n",
      "generacion 330, Mejor fitness = 42133.5575480639)\n",
      "generacion 340, Mejor fitness = 42133.5575480639)\n",
      "generacion 350, Mejor fitness = 42133.5575480639)\n",
      "generacion 360, Mejor fitness = 42133.5575480639)\n",
      "generacion 370, Mejor fitness = 42133.5575480639)\n",
      "generacion 380, Mejor fitness = 42133.5575480639)\n",
      "generacion 390, Mejor fitness = 42133.5575480639)\n",
      "generacion 400, Mejor fitness = 42133.5575480639)\n",
      "generacion 410, Mejor fitness = 42133.5575480639)\n",
      "generacion 420, Mejor fitness = 42133.5575480639)\n",
      "generacion 430, Mejor fitness = 42133.5575480639)\n",
      "generacion 440, Mejor fitness = 42133.5575480639)\n",
      "generacion 450, Mejor fitness = 42133.5575480639)\n",
      "generacion 460, Mejor fitness = 42133.5575480639)\n",
      "generacion 470, Mejor fitness = 42133.5575480639)\n",
      "generacion 480, Mejor fitness = 42133.5575480639)\n",
      "generacion 490, Mejor fitness = 42133.5575480639)\n",
      "Mejor individuo en la ultima generacion = [1, 1, 1, 0, 1, 0, 0, 0, 0, 1, 1, 0, 0, 1, 1, 0, 1, 0, 1, 0, 0, 0, 0, 0, 0, 0, 0, 0, 0, 0, 0, 0, 0, 0, 0, 0, 0, 0, 0, 0, 0, 0, 0, 0, 0, 0, 0, 0, 0, 0, 0, 0, 0, 0, 0, 0, 0, 0, 0, 0] (fitness = 42133.5575480639)\n"
     ]
    },
    {
     "data": {
      "image/png": "[encoded data removed]",
      "text/plain": [
       "<Figure size 432x288 with 1 Axes>"
      ]
     },
     "metadata": {
      "needs_background": "light"
     },
     "output_type": "display_data"
    }
   ],
   "source": [
    "## Hiperparametros del algoritmo genetico\n",
    "POP_SIZE = 100       # numero de individuos\n",
    "GENERATIONS = 500   # numero de generaciones\n",
    "PMUT = 0.1        # taza de mutacion\n",
    "NUM_MARKETS=60\n",
    "## Inicializa una poblacion inicial de forma aleatoria\n",
    "population = init_population(POP_SIZE)\n",
    "\n",
    "# Evolue la poblacion con el algoritmo genetico (cruzamiento 'onepoint', )\n",
    "best_ind, bestfitness = genetic_algorithm(population, marketPool, GENERATIONS, PMUT, crossover=\"uniform\", mutation=\"flip\",select='sus')\n",
    "\n",
    "# muestra la evolucion del mejor fitness\n",
    "plt.plot(bestfitness)\n",
    "plt.show()\n",
    "#42133.5575480639 convergencia generacion=30"
   ]
  },
  {
   "cell_type": "code",
   "execution_count": 32,
   "metadata": {},
   "outputs": [
    {
     "data": {
      "text/plain": [
       "['Esq. Benavides con Nicolas Dueñas',\n",
       " 'Sta Bernardita con Republica de Venezuela',\n",
       " 'Santa Susana con Santa Gertrudis',\n",
       " 'Esq. Aurelio Garcia y Miranono Arredondo',\n",
       " 'Aristides del Carpio Muñoz 1396, Cercado de Lima 15081',\n",
       " 'Av. Oscar R. Benavides, Cercado de Lima 07006',\n",
       " 'Jr. Aristides del Carpio y Muñoz 1156 Urb, Cercado de Lima 15081',\n",
       " 'Esquina Chocano-Independencia',\n",
       " 'Leonardo Arrieta 2501, Cercado de Lima 15081',\n",
       " 'Jr. Valle Riestra, 609 Pueblo Libre, Lima 15084']"
      ]
     },
     "execution_count": 32,
     "metadata": {},
     "output_type": "execute_result"
    }
   ],
   "source": [
    "[marketPool[i].descr for i in range(len(best_ind.chromosome)) if best_ind.chromosome[i]==1]"
   ]
  }
 ],
 "metadata": {
  "kernelspec": {
   "display_name": "Python [conda env:ArtInte]",
   "language": "python",
   "name": "conda-env-ArtInte-py"
  },
  "language_info": {
   "codemirror_mode": {
    "name": "ipython",
    "version": 3
   },
   "file_extension": ".py",
   "mimetype": "text/x-python",
   "name": "python",
   "nbconvert_exporter": "python",
   "pygments_lexer": "ipython3",
   "version": "3.7.5"
  }
 },
 "nbformat": 4,
 "nbformat_minor": 4
}
