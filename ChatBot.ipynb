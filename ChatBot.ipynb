{
  "nbformat": 4,
  "nbformat_minor": 0,
  "metadata": {
    "colab": {
      "name": "TA_Presentacion.ipynb",
      "provenance": [],
      "collapsed_sections": [
        "XFmGCsS5F42Y",
        "rIezuXnjmESl",
        "1LgSfWvNHpgT"
      ]
    },
    "kernelspec": {
      "name": "python3",
      "display_name": "Python 3"
    },
    "accelerator": "GPU"
  },
  "cells": [
    {
      "cell_type": "markdown",
      "metadata": {
        "id": "51kuCgyh1v-2",
        "colab_type": "text"
      },
      "source": [
        "#**Importando las librerias necesarias**"
      ]
    },
    {
      "cell_type": "code",
      "metadata": {
        "id": "N9Dndn-Rtydv",
        "colab_type": "code",
        "outputId": "3499fc9a-3611-4fb2-a8f5-92a923e897cc",
        "colab": {
          "base_uri": "https://localhost:8080/",
          "height": 35
        }
      },
      "source": [
        "import pandas as pd\n",
        "import numpy as np\n",
        "import spacy \n",
        "import matplotlib.pyplot as plt\n",
        "from keras.layers import Dense\n",
        "from keras.utils import to_categorical\n",
        "from keras.models import Model, Input,Sequential\n",
        "from keras import layers \n",
        "import nltk #Se usará para obtener los fonemas \n",
        "import string #Necesario para manejar los caracteres especiales\n",
        "import gensim #Libreria para realizar el doc2vec https://github.com/RaRe-Technologies/gensim/blob/develop/docs/notebooks/doc2vec-lee.ipynb\n",
        "from sklearn.feature_extraction.text import CountVectorizer #Utilizado para la creación del bag of phonemes\n",
        "from sklearn.decomposition import PCA\n",
        "import random\n",
        "import warnings\n",
        "warnings.filterwarnings(\"ignore\")"
      ],
      "execution_count": 0,
      "outputs": [
        {
          "output_type": "stream",
          "text": [
            "Using TensorFlow backend.\n"
          ],
          "name": "stderr"
        }
      ]
    },
    {
      "cell_type": "code",
      "metadata": {
        "id": "hyA_OuRZ2EOh",
        "colab_type": "code",
        "outputId": "62f8596c-e783-42a5-cee0-1442ee74ad2e",
        "colab": {
          "base_uri": "https://localhost:8080/",
          "height": 54
        }
      },
      "source": [
        "nltk.download('cmudict')\n",
        "arpabet = nltk.corpus.cmudict.dict() #Instancia del objeto a utilizar para obtener los fonemas"
      ],
      "execution_count": 0,
      "outputs": [
        {
          "output_type": "stream",
          "text": [
            "[nltk_data] Downloading package cmudict to /root/nltk_data...\n",
            "[nltk_data]   Unzipping corpora/cmudict.zip.\n"
          ],
          "name": "stdout"
        }
      ]
    },
    {
      "cell_type": "code",
      "metadata": {
        "id": "ldtCERvUpthN",
        "colab_type": "code",
        "outputId": "cf9bfb6f-f59e-4317-fa04-dba8f7a8f966",
        "colab": {
          "base_uri": "https://localhost:8080/",
          "height": 92
        }
      },
      "source": [
        "!python -m spacy download en_core_web_sm  # Descargamos el modelo de spacy a utilizar\n",
        "nlp = spacy.load('en_core_web_sm')"
      ],
      "execution_count": 0,
      "outputs": [
        {
          "output_type": "stream",
          "text": [
            "Requirement already satisfied: en_core_web_sm==2.1.0 from https://github.com/explosion/spacy-models/releases/download/en_core_web_sm-2.1.0/en_core_web_sm-2.1.0.tar.gz#egg=en_core_web_sm==2.1.0 in /usr/local/lib/python3.6/dist-packages (2.1.0)\n",
            "\u001b[38;5;2m✔ Download and installation successful\u001b[0m\n",
            "You can now load the model via spacy.load('en_core_web_sm')\n"
          ],
          "name": "stdout"
        }
      ]
    },
    {
      "cell_type": "markdown",
      "metadata": {
        "id": "1Q3eMeXMqAF_",
        "colab_type": "text"
      },
      "source": [
        "#**Obteniendo la data**"
      ]
    },
    {
      "cell_type": "markdown",
      "metadata": {
        "id": "LzC4VEkf23vl",
        "colab_type": "text"
      },
      "source": [
        "###**Montanto el drive para leer el documento que contiene la data, descargado de https://www.kaggle.com/viccalexander/kanyewestverses**"
      ]
    },
    {
      "cell_type": "code",
      "metadata": {
        "id": "34yg3aGkpVBz",
        "colab_type": "code",
        "colab": {}
      },
      "source": [
        "from google.colab import drive\n",
        "drive.mount('/content/drive')\n",
        "%cd \"/content/drive/My Drive/Diplomado ML/Diseño de Chatbots Conversacional/TA\""
      ],
      "execution_count": 0,
      "outputs": []
    },
    {
      "cell_type": "markdown",
      "metadata": {
        "id": "41qXgaU93504",
        "colab_type": "text"
      },
      "source": [
        "###**Leyendo el txt**"
      ]
    },
    {
      "cell_type": "code",
      "metadata": {
        "id": "QAAqIPAirF4m",
        "colab_type": "code",
        "colab": {}
      },
      "source": [
        "#Abriendo el archivo que contiene las rimas \n",
        "with open('kanye_verses.txt','r',encoding='ascii',errors='ignore') as txt:\n",
        "  data=txt.read()"
      ],
      "execution_count": 0,
      "outputs": []
    },
    {
      "cell_type": "code",
      "metadata": {
        "id": "zagXNL2Srhz5",
        "colab_type": "code",
        "colab": {}
      },
      "source": [
        "#Obtencion de todos los caracteres para compararlos con las palabras que se obtendran sus fonemas y estas(palabras) no sean caracteres especiales\n",
        "all_punct=[punct for punct in string.punctuation] "
      ],
      "execution_count": 0,
      "outputs": []
    },
    {
      "cell_type": "markdown",
      "metadata": {
        "id": "bla0RDmz--vO",
        "colab_type": "text"
      },
      "source": [
        "#**Creación del dataset a partir del txt**"
      ]
    },
    {
      "cell_type": "code",
      "metadata": {
        "id": "OrRA0Wl7nVwD",
        "colab_type": "code",
        "colab": {}
      },
      "source": [
        "def gettingFeatures(nlp,sentence,arpabet,num_words):\n",
        "  \"\"\"Funcion para obtener las caracteristicas de las ultimas palabras usando Spacy y el diccionario pra los fonemas.\n",
        "\n",
        "  Parametros: \n",
        "              - nlp:Modelo descargado de Spacy\n",
        "              - sentence:Sentencia que se desea obtener sus caracteristicas\n",
        "              - arpabet:Modelo descargado de NLTK para la obtencion de los fonemas\n",
        "              - num_words:Cantidad de ultimas palabras de las que se quieren obtener sus caracteristicas\n",
        "  Retorna: Una tupla con las caracteristicas obtenidas.\n",
        "  \"\"\"\n",
        "  doc=nlp(sentence)\n",
        "  last_words,phonemes,tag,dep=([] for _ in range(4))\n",
        "  for token in reversed(list(doc)): #Revertimos para ir desde las ultimas palabras hacia las primeras\n",
        "    if token.text not in all_punct: #Verificamos si la palabra no pertence a un caracter especial\n",
        "      last_words.append(token.text.lower()) #Convertimos a minisculas porque será una llave en el diccionario de fonemas\n",
        "      #Debido a que arpabet es un diccionario(llave:palabra, valor:fonemas) es posible que la palabra ingresada no se encuentre en esta,\n",
        "      #por eso verificamos\n",
        "      try:\n",
        "        phon=arpabet[token.text.lower()][0]\n",
        "      except Exception as e:\n",
        "        phon='NA'\n",
        "      phonemes.append(phon)\n",
        "      tag.append(token.tag_)\n",
        "      dep.append(token.dep_)\n",
        "    if len(last_words) == num_words: #cantidad de ultimas palabras\n",
        "      break\n",
        "\n",
        "\n",
        "  #La variable phonemes es una lista de listas, aplanaremos esto  \n",
        "  flatten_phonemes=[phon for phons in phonemes for phon in phons]\n",
        "\n",
        "  return last_words,\" \".join(flatten_phonemes),\" \".join(tag),\" \".join(dep)\n",
        "\n",
        "  "
      ],
      "execution_count": 0,
      "outputs": []
    },
    {
      "cell_type": "code",
      "metadata": {
        "id": "it_hY6w8ztQT",
        "colab_type": "code",
        "outputId": "c620ce1b-e6c0-4ab0-d4f4-42bcd631963e",
        "colab": {
          "base_uri": "https://localhost:8080/",
          "height": 90
        }
      },
      "source": [
        "gettingFeatures(nlp,\"\"\"(Ball so hard) That shit cray, ain’t it Jay? What she order, fish Filet?\"\"\",arpabet,4)"
      ],
      "execution_count": 0,
      "outputs": [
        {
          "output_type": "execute_result",
          "data": {
            "text/plain": [
              "(['filet', 'fish', 'order', 'she'],\n",
              " 'F IH0 L EY1 F IH1 SH AO1 R D ER0 SH IY1',\n",
              " 'NNP VB VBP PRP',\n",
              " 'dobj ROOT advcl nsubj')"
            ]
          },
          "metadata": {
            "tags": []
          },
          "execution_count": 8
        }
      ]
    },
    {
      "cell_type": "code",
      "metadata": {
        "id": "C1ilzW1IyV8w",
        "colab_type": "code",
        "colab": {}
      },
      "source": [
        "#Creando el dataframe a partir del archivo, auqnue tambien se ha creado internamente un diccionario\n",
        "def creatingDf(data):\n",
        "  \"\"\"Función que servirá para crear un dataFrame a partir de la data leida en el txt.\n",
        "\n",
        "  Función que recibe la data del txt y la recorre dividiendola en versos y posteriormente en sentencias(rimas)\n",
        "  hace uso de la funcion gettingFeatures para obtener los parametros y a partir de esto crear un dataframe.\n",
        "\n",
        "  Parámetros:\n",
        "              -data: Data leida previamente del txt.\n",
        "  \n",
        "  Retorna: Un dataframe con las caracteristicas que se obtuvieron por la función gettingFeatures\n",
        "  \"\"\"\n",
        "  \n",
        "  verses=list(filter(None,data.split('\\n\\n'))) #Division de la data en versos\n",
        "  \n",
        "  df=pd.DataFrame(columns=['Verses','Rhymes','Target','Rhyme','Last_Words','Tag','Dep','Phonemes']) #Instancia del dataframe\n",
        "  \n",
        "  dic_verses={} #Tambien se tiene la data en un diccionario pero se complico la creacion de un dataframe a partir de esto\n",
        "  \n",
        "  for index,verse in enumerate(verses): #Recorrer los versos para obtener las oraciones\n",
        "    \n",
        "    dic_rhymes={} #diccionario de las rimas (oraciones)\n",
        "    \n",
        "    rhymes=verse.split('\\n') # Separacion de las rimas en oraciones\n",
        "    #La creacion de una variable de apoyo es necesiario para poder lograr relacionar una rima con otra que le continue\n",
        "    j=1\n",
        "    for i,rhyme in enumerate(rhymes):\n",
        "      if (i+1) % 2 == 0:\n",
        "        j-=1\n",
        "      dic_rhymes[f'Rhyme {i+1}']=rhyme #relacionado al diccionario general\n",
        "      \n",
        "      #No se quitarán los caracteres especiales de las rimas porque estas seran las respuestas mas adelante.\n",
        "      \n",
        "      features=gettingFeatures(nlp,rhyme,arpabet,1) #Llamando a la funcion para obtener las caracteristicas de las sentencias\n",
        "      #Agregando una fila al dataFrame\n",
        "      #Obtener mas caracteristicas a partir de la clase que de POS\n",
        "      #Obtener los fonemas de esa palabra usando NLTK\n",
        "      #Obtener las silabas \n",
        "      df=df.append({'Verses':f'Verse {index+1}',\n",
        "                 'Rhymes': f'Rhyme {j}',\n",
        "                 'Target': f'Verse {index+1} Rhyme {j}',\n",
        "                 'Rhyme' : rhyme,\n",
        "                 'Last_Words': features[0],\n",
        "                 'Phonemes': features[1],\n",
        "                 'Tag' : features[2],\n",
        "                 'Dep' : features[3]\n",
        "                }, ignore_index=True) \n",
        "        \n",
        "      j+=1\n",
        "    dic_verses[f'Verse {index+1}']=dic_rhymes #relacionado al diccionario general    \n",
        "  return df    \n",
        "    \n",
        "  "
      ],
      "execution_count": 0,
      "outputs": []
    },
    {
      "cell_type": "code",
      "metadata": {
        "id": "_MyI1ou35Fy7",
        "colab_type": "code",
        "colab": {}
      },
      "source": [
        "rpt=creatingDf(data)"
      ],
      "execution_count": 0,
      "outputs": []
    },
    {
      "cell_type": "code",
      "metadata": {
        "id": "Toa--Ix4W960",
        "colab_type": "code",
        "outputId": "46ed4e02-ddc9-4f67-ddf0-cfba1c81f992",
        "colab": {
          "base_uri": "https://localhost:8080/",
          "height": 206
        }
      },
      "source": [
        "rpt[rpt.Verses == 'Verse 1'].head()"
      ],
      "execution_count": 0,
      "outputs": [
        {
          "output_type": "execute_result",
          "data": {
            "text/html": [
              "<div>\n",
              "<style scoped>\n",
              "    .dataframe tbody tr th:only-of-type {\n",
              "        vertical-align: middle;\n",
              "    }\n",
              "\n",
              "    .dataframe tbody tr th {\n",
              "        vertical-align: top;\n",
              "    }\n",
              "\n",
              "    .dataframe thead th {\n",
              "        text-align: right;\n",
              "    }\n",
              "</style>\n",
              "<table border=\"1\" class=\"dataframe\">\n",
              "  <thead>\n",
              "    <tr style=\"text-align: right;\">\n",
              "      <th></th>\n",
              "      <th>Verses</th>\n",
              "      <th>Rhymes</th>\n",
              "      <th>Target</th>\n",
              "      <th>Rhyme</th>\n",
              "      <th>Last_Words</th>\n",
              "      <th>Tag</th>\n",
              "      <th>Dep</th>\n",
              "      <th>Phonemes</th>\n",
              "    </tr>\n",
              "  </thead>\n",
              "  <tbody>\n",
              "    <tr>\n",
              "      <th>0</th>\n",
              "      <td>Verse 1</td>\n",
              "      <td>Rhyme 1</td>\n",
              "      <td>Verse 1 Rhyme 1</td>\n",
              "      <td>Let the suicide doors up</td>\n",
              "      <td>[up]</td>\n",
              "      <td>RP</td>\n",
              "      <td>prt</td>\n",
              "      <td>AH1 P</td>\n",
              "    </tr>\n",
              "    <tr>\n",
              "      <th>1</th>\n",
              "      <td>Verse 1</td>\n",
              "      <td>Rhyme 1</td>\n",
              "      <td>Verse 1 Rhyme 1</td>\n",
              "      <td>I threw suicides on the tour bus</td>\n",
              "      <td>[bus]</td>\n",
              "      <td>NN</td>\n",
              "      <td>pobj</td>\n",
              "      <td>B AH1 S</td>\n",
              "    </tr>\n",
              "    <tr>\n",
              "      <th>2</th>\n",
              "      <td>Verse 1</td>\n",
              "      <td>Rhyme 2</td>\n",
              "      <td>Verse 1 Rhyme 2</td>\n",
              "      <td>I threw suicides on the private jet</td>\n",
              "      <td>[jet]</td>\n",
              "      <td>NN</td>\n",
              "      <td>pobj</td>\n",
              "      <td>JH EH1 T</td>\n",
              "    </tr>\n",
              "    <tr>\n",
              "      <th>3</th>\n",
              "      <td>Verse 1</td>\n",
              "      <td>Rhyme 2</td>\n",
              "      <td>Verse 1 Rhyme 2</td>\n",
              "      <td>You know what that mean, I'm fly to death</td>\n",
              "      <td>[death]</td>\n",
              "      <td>NN</td>\n",
              "      <td>pobj</td>\n",
              "      <td>D EH1 TH</td>\n",
              "    </tr>\n",
              "    <tr>\n",
              "      <th>4</th>\n",
              "      <td>Verse 1</td>\n",
              "      <td>Rhyme 3</td>\n",
              "      <td>Verse 1 Rhyme 3</td>\n",
              "      <td>I step in Def Jam buildin' like I'm the shit</td>\n",
              "      <td>[shit]</td>\n",
              "      <td>NN</td>\n",
              "      <td>attr</td>\n",
              "      <td>SH IH1 T</td>\n",
              "    </tr>\n",
              "  </tbody>\n",
              "</table>\n",
              "</div>"
            ],
            "text/plain": [
              "    Verses   Rhymes           Target  ... Tag   Dep  Phonemes\n",
              "0  Verse 1  Rhyme 1  Verse 1 Rhyme 1  ...  RP   prt     AH1 P\n",
              "1  Verse 1  Rhyme 1  Verse 1 Rhyme 1  ...  NN  pobj   B AH1 S\n",
              "2  Verse 1  Rhyme 2  Verse 1 Rhyme 2  ...  NN  pobj  JH EH1 T\n",
              "3  Verse 1  Rhyme 2  Verse 1 Rhyme 2  ...  NN  pobj  D EH1 TH\n",
              "4  Verse 1  Rhyme 3  Verse 1 Rhyme 3  ...  NN  attr  SH IH1 T\n",
              "\n",
              "[5 rows x 8 columns]"
            ]
          },
          "metadata": {
            "tags": []
          },
          "execution_count": 11
        }
      ]
    },
    {
      "cell_type": "markdown",
      "metadata": {
        "id": "c1Xj0npG_WoK",
        "colab_type": "text"
      },
      "source": [
        "#**Creación del doc2vec**"
      ]
    },
    {
      "cell_type": "code",
      "metadata": {
        "id": "x9T_s-mLQbes",
        "colab_type": "code",
        "colab": {}
      },
      "source": [
        "def usingGensim(doc,tag=None,test=False):\n",
        "  \"\"\"Función para tokenizar y agregar un tag a la sentencia haciendo uso de Gensim.\n",
        "\n",
        "  Función para los datos del train y del test, hace uso de la funcion simple_preprocess para la tokenizacion y TaggedDocument para tagearlos.\n",
        "  Si se trata de la data de entrenamiento, tokenizará y tageará la sentencia para esto se debe pasar el parametro tag, si se trata de la data \n",
        "  de prueba entonces solo se tokenizará y se deberá cambiar el parametro test a True.\n",
        "  Parámetros:\n",
        "              - doc: Sentencia que se quiere tokenizar y tagear (entrenamiento).\n",
        "              - tag: Tag que se le asignará a la sentencia si sobre la data de entrenamiento.\n",
        "              - test: Flag para saber si es sobre la data de prueba o de entrenamiento.\n",
        "  Retorna: Una lista con los tokens de la sentencia si es para el test y un objeto TaggedDocument con los tokens y el tag si es para data de prueba.\n",
        "  \"\"\"\n",
        "  #Si es para el doc de prueba entonces no se le pasa el tag, porque esta no se conoce\n",
        "  #En un inicio se pensó que el tag influia en los vectores, pero es un index para luego poder encontrar el texto. NO INFLUYE EN LA REPRESENTACION VECTORIAL\n",
        "  #Entonces el tag va a ser la posicion(index) de la rima dentro del dataframe\n",
        "  if test:\n",
        "    return gensim.utils.simple_preprocess(doc) #Devuelve el doc tokenizado\n",
        "  else:\n",
        "    return gensim.models.doc2vec.TaggedDocument(gensim.utils.simple_preprocess(doc), [tag])#Devuelve el doc tokenizado con su tag"
      ],
      "execution_count": 0,
      "outputs": []
    },
    {
      "cell_type": "code",
      "metadata": {
        "colab_type": "code",
        "outputId": "f4392e42-57fd-45a4-e40e-df62808b1cd6",
        "id": "QZJOUAzl8tof",
        "colab": {
          "base_uri": "https://localhost:8080/",
          "height": 35
        }
      },
      "source": [
        "usingGensim('(Ball so hard) That shit cray, ain’t it Jay? What she order, fish Filet?',tag=1)"
      ],
      "execution_count": 0,
      "outputs": [
        {
          "output_type": "execute_result",
          "data": {
            "text/plain": [
              "TaggedDocument(words=['ball', 'so', 'hard', 'that', 'shit', 'cray', 'ain', 'it', 'jay', 'what', 'she', 'order', 'fish', 'filet'], tags=[1])"
            ]
          },
          "metadata": {
            "tags": []
          },
          "execution_count": 13
        }
      ]
    },
    {
      "cell_type": "markdown",
      "metadata": {
        "id": "G2r8AXEZ_pa4",
        "colab_type": "text"
      },
      "source": [
        "**Creación del doc2vec a partir de la columna Rhyme del dataframe**"
      ]
    },
    {
      "cell_type": "code",
      "metadata": {
        "id": "U0Htv-pRYzhx",
        "colab_type": "code",
        "colab": {}
      },
      "source": [
        "#Creacion del taggedDocuments\n",
        "taggedDocuments=[]\n",
        "for index in range(len(rpt.Rhyme)):\n",
        "  taggedDocuments.append(usingGensim(rpt.Rhyme[index],tag=index)) #El tag será el index de cada fila para poder ubicarla mas adelante"
      ],
      "execution_count": 0,
      "outputs": []
    },
    {
      "cell_type": "code",
      "metadata": {
        "id": "XNPGBOUxnH23",
        "colab_type": "code",
        "outputId": "2759a67b-6246-48d2-ff2b-1cbf5cb0ad02",
        "colab": {
          "base_uri": "https://localhost:8080/",
          "height": 109
        }
      },
      "source": [
        "taggedDocuments[:5]"
      ],
      "execution_count": 0,
      "outputs": [
        {
          "output_type": "execute_result",
          "data": {
            "text/plain": [
              "[TaggedDocument(words=['let', 'the', 'suicide', 'doors', 'up'], tags=[0]),\n",
              " TaggedDocument(words=['threw', 'suicides', 'on', 'the', 'tour', 'bus'], tags=[1]),\n",
              " TaggedDocument(words=['threw', 'suicides', 'on', 'the', 'private', 'jet'], tags=[2]),\n",
              " TaggedDocument(words=['you', 'know', 'what', 'that', 'mean', 'fly', 'to', 'death'], tags=[3]),\n",
              " TaggedDocument(words=['step', 'in', 'def', 'jam', 'buildin', 'like', 'the', 'shit'], tags=[4])]"
            ]
          },
          "metadata": {
            "tags": []
          },
          "execution_count": 15
        }
      ]
    },
    {
      "cell_type": "code",
      "metadata": {
        "id": "VztDZUX3YKpW",
        "colab_type": "code",
        "colab": {}
      },
      "source": [
        "#Instanciamos el modelo Doc2Vec con un tamaño de 50 para el vector\n",
        "modelDoc2Vec = gensim.models.doc2vec.Doc2Vec(vector_size=50, epochs=40)"
      ],
      "execution_count": 0,
      "outputs": []
    },
    {
      "cell_type": "code",
      "metadata": {
        "id": "Kfw9Bv2DYv33",
        "colab_type": "code",
        "colab": {}
      },
      "source": [
        "#Construimos el vocabulario\n",
        "modelDoc2Vec.build_vocab(taggedDocuments)"
      ],
      "execution_count": 0,
      "outputs": []
    },
    {
      "cell_type": "code",
      "metadata": {
        "id": "OvaliUIhZTiR",
        "colab_type": "code",
        "outputId": "45e3c3d8-5cba-41c2-c4bf-2874cae98bae",
        "colab": {
          "base_uri": "https://localhost:8080/",
          "height": 54
        }
      },
      "source": [
        "#Entrenamos el modelo\n",
        "%time modelDoc2Vec.train(taggedDocuments, total_examples=modelDoc2Vec.corpus_count, epochs=modelDoc2Vec.epochs)"
      ],
      "execution_count": 0,
      "outputs": [
        {
          "output_type": "stream",
          "text": [
            "CPU times: user 16.2 s, sys: 4.31 s, total: 20.5 s\n",
            "Wall time: 14.1 s\n"
          ],
          "name": "stdout"
        }
      ]
    },
    {
      "cell_type": "markdown",
      "metadata": {
        "id": "p3b_lx6yAgvV",
        "colab_type": "text"
      },
      "source": [
        "#**Creación del bag of phonemes(basado en el modelo bag of words)**"
      ]
    },
    {
      "cell_type": "markdown",
      "metadata": {
        "id": "ioUlpNsfBF47",
        "colab_type": "text"
      },
      "source": [
        "**Este bag of phoenemes será el input de nuestro modelo clasificador**"
      ]
    },
    {
      "cell_type": "code",
      "metadata": {
        "id": "b5FXDEAN3cVd",
        "colab_type": "code",
        "colab": {}
      },
      "source": [
        "#Creando el bag of phonemes\n",
        "cv=CountVectorizer()\n",
        "X=cv.fit_transform(rpt['Phonemes']).toarray()"
      ],
      "execution_count": 0,
      "outputs": []
    },
    {
      "cell_type": "code",
      "metadata": {
        "id": "vkL6rdf4A3jx",
        "colab_type": "code",
        "outputId": "ed5bb404-9401-44b9-a636-65fbfa27a469",
        "colab": {
          "base_uri": "https://localhost:8080/",
          "height": 127
        }
      },
      "source": [
        "#Representacion de los phonemes en un sparse matrix \n",
        "X[:2]"
      ],
      "execution_count": 0,
      "outputs": [
        {
          "output_type": "execute_result",
          "data": {
            "text/plain": [
              "array([[0, 0, 0, 0, 0, 0, 0, 1, 0, 0, 0, 0, 0, 0, 0, 0, 0, 0, 0, 0, 0, 0,\n",
              "        0, 0, 0, 0, 0, 0, 0, 0, 0, 0, 0, 0, 0, 0, 0, 0, 0, 0, 0, 0, 0, 0,\n",
              "        0, 0, 0, 0, 0],\n",
              "       [0, 0, 0, 0, 0, 0, 0, 1, 0, 0, 0, 0, 0, 0, 0, 0, 0, 0, 0, 0, 0, 0,\n",
              "        0, 0, 0, 0, 0, 0, 0, 0, 0, 0, 0, 0, 0, 0, 0, 0, 0, 0, 0, 0, 0, 0,\n",
              "        0, 0, 0, 0, 0]])"
            ]
          },
          "metadata": {
            "tags": []
          },
          "execution_count": 20
        }
      ]
    },
    {
      "cell_type": "markdown",
      "metadata": {
        "id": "TiBO5mb9-tqz",
        "colab_type": "text"
      },
      "source": [
        "#**REDUCCION DE LA DIMENSIONALIDAD CON PCA Y CLUSTERIZACION PARA LAS RIMAS**"
      ]
    },
    {
      "cell_type": "markdown",
      "metadata": {
        "id": "t89_BHfSaxf9",
        "colab_type": "text"
      },
      "source": [
        "**Se aplicará PCA para reducir las dimensiones del Bag of Phonemes a 2 con el fin de visualizar como se encuentran estos puntos y decidir si se puede clusterizar o no**"
      ]
    },
    {
      "cell_type": "markdown",
      "metadata": {
        "id": "R9BE8uRUcCLU",
        "colab_type": "text"
      },
      "source": [
        "##**Reduccion de la dimensionalidad**"
      ]
    },
    {
      "cell_type": "code",
      "metadata": {
        "id": "w7YMpiN7-w2P",
        "colab_type": "code",
        "colab": {}
      },
      "source": [
        "pca=PCA(n_components=2)\n",
        "Xpca=pca.fit_transform(X) # X reducido a 2 dimensiones"
      ],
      "execution_count": 0,
      "outputs": []
    },
    {
      "cell_type": "code",
      "metadata": {
        "id": "1P26VdXq_pPI",
        "colab_type": "code",
        "outputId": "0d1a5372-395e-45a4-a20f-6112d37142e1",
        "colab": {
          "base_uri": "https://localhost:8080/",
          "height": 287
        }
      },
      "source": [
        "plt.scatter(Xpca[:,0],Xpca[:,1],s=10) "
      ],
      "execution_count": 0,
      "outputs": [
        {
          "output_type": "execute_result",
          "data": {
            "text/plain": [
              "<matplotlib.collections.PathCollection at 0x7f749ecc5748>"
            ]
          },
          "metadata": {
            "tags": []
          },
          "execution_count": 22
        },
        {
          "output_type": "display_data",
          "data": {
            "image/png": "[encoded data removed]",
            "text/plain": [
              "<Figure size 432x288 with 1 Axes>"
            ]
          },
          "metadata": {
            "tags": []
          }
        }
      ]
    },
    {
      "cell_type": "code",
      "metadata": {
        "id": "KlCv79im_2Ru",
        "colab_type": "code",
        "outputId": "a119d069-9d35-4be4-dc15-0b716c517ff8",
        "colab": {
          "base_uri": "https://localhost:8080/",
          "height": 35
        }
      },
      "source": [
        "pca.explained_variance_ratio_.sum() #Esta suma puede ser baja pero muchas veces basta con solo 2 para poder clusterizar y eso nos dice el gráfico anterior"
      ],
      "execution_count": 0,
      "outputs": [
        {
          "output_type": "execute_result",
          "data": {
            "text/plain": [
              "0.20368194543636178"
            ]
          },
          "metadata": {
            "tags": []
          },
          "execution_count": 23
        }
      ]
    },
    {
      "cell_type": "markdown",
      "metadata": {
        "id": "XFmGCsS5F42Y",
        "colab_type": "text"
      },
      "source": [
        "##**Clusterizacion con GaussianMixture**"
      ]
    },
    {
      "cell_type": "code",
      "metadata": {
        "id": "Sw6MVqYpFRIK",
        "colab_type": "code",
        "colab": {}
      },
      "source": [
        "from sklearn.mixture import GaussianMixture\n",
        "gms_per_k = [GaussianMixture(n_components=k, n_init=10, random_state=42).fit(Xpca)\n",
        "             for k in range(1, 20)]"
      ],
      "execution_count": 0,
      "outputs": []
    },
    {
      "cell_type": "code",
      "metadata": {
        "id": "YB8RAQ3fFZXN",
        "colab_type": "code",
        "colab": {}
      },
      "source": [
        "bics = [model.bic(Xpca) for model in gms_per_k]\n",
        "aics = [model.aic(Xpca) for model in gms_per_k]"
      ],
      "execution_count": 0,
      "outputs": []
    },
    {
      "cell_type": "code",
      "metadata": {
        "id": "PwNISwaRFd8G",
        "colab_type": "code",
        "outputId": "5786bb89-ac90-4707-d4fc-c35089edce33",
        "colab": {
          "base_uri": "https://localhost:8080/",
          "height": 233
        }
      },
      "source": [
        "plt.figure(figsize=(8, 3))\n",
        "plt.plot(range(1, 20), bics, \"bo-\", label=\"BIC\")\n",
        "plt.plot(range(1, 20), aics, \"go--\", label=\"AIC\")\n",
        "plt.xlabel(\"$k$\", fontsize=14)\n",
        "plt.ylabel(\"Information Criterion\", fontsize=14)\n",
        "plt.axis([1, 20.5, np.min(aics) - 50, np.max(aics) + 50])\n",
        "plt.legend()\n",
        "plt.show()"
      ],
      "execution_count": 0,
      "outputs": [
        {
          "output_type": "display_data",
          "data": {
            "image/png": "[encoded data removed]",
            "text/plain": [
              "<Figure size 576x216 with 1 Axes>"
            ]
          },
          "metadata": {
            "tags": []
          }
        }
      ]
    },
    {
      "cell_type": "code",
      "metadata": {
        "id": "_ZCFKsWyF0RR",
        "colab_type": "code",
        "colab": {}
      },
      "source": [
        "min_bic = np.infty\n",
        "\n",
        "for k in range(1, 20):\n",
        "    for covariance_type in (\"full\", \"tied\", \"spherical\", \"diag\"):\n",
        "        bic = GaussianMixture(n_components=k, n_init=10,\n",
        "                              covariance_type=covariance_type,\n",
        "                              random_state=42).fit(Xpca).bic(Xpca)\n",
        "        if bic < min_bic:\n",
        "            min_bic = bic\n",
        "            best_k = k\n",
        "            best_covariance_type = covariance_type"
      ],
      "execution_count": 0,
      "outputs": []
    },
    {
      "cell_type": "code",
      "metadata": {
        "id": "eQNwcBCOGYCd",
        "colab_type": "code",
        "outputId": "b4ce9d0c-f414-4fac-f25b-cdbbe520f627",
        "colab": {
          "base_uri": "https://localhost:8080/",
          "height": 35
        }
      },
      "source": [
        "best_k,best_covariance_type"
      ],
      "execution_count": 0,
      "outputs": [
        {
          "output_type": "execute_result",
          "data": {
            "text/plain": [
              "(17, 'full')"
            ]
          },
          "metadata": {
            "tags": []
          },
          "execution_count": 392
        }
      ]
    },
    {
      "cell_type": "code",
      "metadata": {
        "id": "9fpSuTHdGZIP",
        "colab_type": "code",
        "colab": {}
      },
      "source": [
        "GMM=GaussianMixture(n_components=17, n_init=20, random_state=42,covariance_type='tied').fit(Xpca)"
      ],
      "execution_count": 0,
      "outputs": []
    },
    {
      "cell_type": "code",
      "metadata": {
        "id": "3R-Y3TrBGkci",
        "colab_type": "code",
        "colab": {}
      },
      "source": [
        "y_pred_GMM=GMM.predict(Xpca)"
      ],
      "execution_count": 0,
      "outputs": []
    },
    {
      "cell_type": "code",
      "metadata": {
        "id": "ObvKZ0kRGosb",
        "colab_type": "code",
        "colab": {}
      },
      "source": [
        "dfPrueba=pd.DataFrame(Xpca)\n",
        "dfPrueba['y_pred_GMM']=y_pred_GMM"
      ],
      "execution_count": 0,
      "outputs": []
    },
    {
      "cell_type": "code",
      "metadata": {
        "id": "CPr5fjv5G5MA",
        "colab_type": "code",
        "outputId": "43b88342-4dc7-461e-9506-d13d1935c1ab",
        "colab": {
          "base_uri": "https://localhost:8080/",
          "height": 268
        }
      },
      "source": [
        "grups=len(set(y_pred_GMM))\n",
        "x = np.arange(grups)\n",
        "ys = [i+x+(i*x)**2 for i in range(grups)]\n",
        "colors = cm.rainbow(np.linspace(0, 1, len(ys)));\n",
        "for i in range(grups):\n",
        "  plt.scatter(dfPrueba[0][dfPrueba.y_pred_GMM == i],dfPrueba[1][dfPrueba.y_pred_GMM == i],s=10,c=[colors[i]])"
      ],
      "execution_count": 0,
      "outputs": [
        {
          "output_type": "display_data",
          "data": {
            "image/png": "[encoded data removed]",
            "text/plain": [
              "<Figure size 432x288 with 1 Axes>"
            ]
          },
          "metadata": {
            "tags": []
          }
        }
      ]
    },
    {
      "cell_type": "markdown",
      "metadata": {
        "id": "rIezuXnjmESl",
        "colab_type": "text"
      },
      "source": [
        "##**Clusterizacion con HDBscan**"
      ]
    },
    {
      "cell_type": "code",
      "metadata": {
        "id": "C7cpsucdm0WY",
        "colab_type": "code",
        "colab": {}
      },
      "source": [
        "!pip install hdbscan"
      ],
      "execution_count": 0,
      "outputs": []
    },
    {
      "cell_type": "code",
      "metadata": {
        "id": "F2uNbxgWmDgJ",
        "colab_type": "code",
        "colab": {}
      },
      "source": [
        "import hdbscan\n",
        "clusterer = hdbscan.HDBSCAN(min_cluster_size=9)\n",
        "cluster_labels = clusterer.fit_predict(Xpca)"
      ],
      "execution_count": 0,
      "outputs": []
    },
    {
      "cell_type": "code",
      "metadata": {
        "id": "ilY2BYnGmhV0",
        "colab_type": "code",
        "colab": {}
      },
      "source": [
        "dfPrueba=pd.DataFrame(Xpca)\n",
        "dfPrueba['y_pred_HDbscan']=cluster_labels"
      ],
      "execution_count": 0,
      "outputs": []
    },
    {
      "cell_type": "code",
      "metadata": {
        "id": "gHQ7H_P1nwCw",
        "colab_type": "code",
        "outputId": "a1931c61-a364-4b75-f431-ca8d85fa6649",
        "colab": {
          "base_uri": "https://localhost:8080/",
          "height": 224
        }
      },
      "source": [
        "np.unique(cluster_labels)"
      ],
      "execution_count": 0,
      "outputs": [
        {
          "output_type": "execute_result",
          "data": {
            "text/plain": [
              "array([ -1,   0,   1,   2,   3,   4,   5,   6,   7,   8,   9,  10,  11,\n",
              "        12,  13,  14,  15,  16,  17,  18,  19,  20,  21,  22,  23,  24,\n",
              "        25,  26,  27,  28,  29,  30,  31,  32,  33,  34,  35,  36,  37,\n",
              "        38,  39,  40,  41,  42,  43,  44,  45,  46,  47,  48,  49,  50,\n",
              "        51,  52,  53,  54,  55,  56,  57,  58,  59,  60,  61,  62,  63,\n",
              "        64,  65,  66,  67,  68,  69,  70,  71,  72,  73,  74,  75,  76,\n",
              "        77,  78,  79,  80,  81,  82,  83,  84,  85,  86,  87,  88,  89,\n",
              "        90,  91,  92,  93,  94,  95,  96,  97,  98,  99, 100, 101, 102,\n",
              "       103, 104, 105, 106, 107, 108, 109, 110, 111, 112, 113, 114, 115,\n",
              "       116, 117, 118, 119, 120, 121, 122, 123, 124, 125, 126, 127, 128,\n",
              "       129, 130, 131, 132, 133, 134, 135, 136, 137, 138])"
            ]
          },
          "metadata": {
            "tags": []
          },
          "execution_count": 432
        }
      ]
    },
    {
      "cell_type": "code",
      "metadata": {
        "id": "qygZzoWpnUNj",
        "colab_type": "code",
        "outputId": "cf260495-e81b-49c2-930c-78e78e5b201e",
        "colab": {
          "base_uri": "https://localhost:8080/",
          "height": 268
        }
      },
      "source": [
        "grups=len(set(cluster_labels))\n",
        "x = np.arange(grups)\n",
        "ys = [i+x+(i*x)**2 for i in range(grups)]\n",
        "colors = cm.rainbow(np.linspace(0, 1, len(ys)));\n",
        "for i in range(grups):\n",
        "  plt.scatter(dfPrueba[0][dfPrueba.y_pred_HDbscan == i-1],dfPrueba[1][dfPrueba.y_pred_HDbscan == i-1],s=10,c=[colors[i]])\n",
        "  #Los puntos morados son los que tienen como clase -1 y son considerados como ruido por dbscan, se deverá eliminar esto del dataframe "
      ],
      "execution_count": 0,
      "outputs": [
        {
          "output_type": "display_data",
          "data": {
            "image/png": "[encoded data removed]",
            "text/plain": [
              "<Figure size 432x288 with 1 Axes>"
            ]
          },
          "metadata": {
            "tags": []
          }
        }
      ]
    },
    {
      "cell_type": "markdown",
      "metadata": {
        "id": "1LgSfWvNHpgT",
        "colab_type": "text"
      },
      "source": [
        "##**Clusterizacion con DBscan**"
      ]
    },
    {
      "cell_type": "code",
      "metadata": {
        "id": "0dlsmS6VHuXn",
        "colab_type": "code",
        "colab": {}
      },
      "source": [
        "from sklearn.neighbors import NearestNeighbors\n",
        "neigh = NearestNeighbors(n_neighbors=2)\n",
        "nbrs = neigh.fit(Xpca)\n",
        "distances, indices = nbrs.kneighbors(Xpca) #Nos devuelve la distancia y los indices"
      ],
      "execution_count": 0,
      "outputs": []
    },
    {
      "cell_type": "code",
      "metadata": {
        "id": "abAKH3YpH04b",
        "colab_type": "code",
        "outputId": "9bd1dce9-e245-4d92-d381-a860e1f9842d",
        "colab": {
          "base_uri": "https://localhost:8080/",
          "height": 287
        }
      },
      "source": [
        "distances = np.sort(distances, axis=0) #Ordenamos y luego graficamos\n",
        "distances = distances[:,1]\n",
        "plt.plot(distances)"
      ],
      "execution_count": 0,
      "outputs": [
        {
          "output_type": "execute_result",
          "data": {
            "text/plain": [
              "[<matplotlib.lines.Line2D at 0x7f336bd4c5c0>]"
            ]
          },
          "metadata": {
            "tags": []
          },
          "execution_count": 402
        },
        {
          "output_type": "display_data",
          "data": {
            "image/png": "[encoded data removed]",
            "text/plain": [
              "<Figure size 432x288 with 1 Axes>"
            ]
          },
          "metadata": {
            "tags": []
          }
        }
      ]
    },
    {
      "cell_type": "code",
      "metadata": {
        "id": "xZIZORxCH292",
        "colab_type": "code",
        "outputId": "d901912a-a56d-4262-dddb-e97edb8d5dfe",
        "colab": {
          "base_uri": "https://localhost:8080/",
          "height": 35
        }
      },
      "source": [
        "from sklearn.cluster import DBSCAN\n",
        "dbscan = DBSCAN(eps=0.2, min_samples=5)\n",
        "dbscan.fit(Xpca)\n",
        "np.unique(dbscan.labels_),len(np.unique(dbscan.labels_)) #DBScan devuelve -1 para las clases que considera ruido"
      ],
      "execution_count": 0,
      "outputs": [
        {
          "output_type": "execute_result",
          "data": {
            "text/plain": [
              "(array([-1,  0,  1,  2,  3,  4,  5,  6,  7]), 9)"
            ]
          },
          "metadata": {
            "tags": []
          },
          "execution_count": 460
        }
      ]
    },
    {
      "cell_type": "code",
      "metadata": {
        "id": "--rK0Qw6IMsQ",
        "colab_type": "code",
        "colab": {}
      },
      "source": [
        "dfPrueba=pd.DataFrame(Xpca)\n",
        "dfPrueba['y_pred_Dbscan']=dbscan.labels_"
      ],
      "execution_count": 0,
      "outputs": []
    },
    {
      "cell_type": "code",
      "metadata": {
        "id": "qke8ECxNIfBh",
        "colab_type": "code",
        "outputId": "eba0b996-2a9d-4482-96c3-d2f66b99ba2f",
        "colab": {
          "base_uri": "https://localhost:8080/",
          "height": 268
        }
      },
      "source": [
        "grups=len(set(dbscan.labels_))\n",
        "x = np.arange(grups)\n",
        "ys = [i+x+(i*x)**2 for i in range(grups)]\n",
        "colors = cm.rainbow(np.linspace(0, 1, len(ys)));\n",
        "for i in range(grups):\n",
        "  plt.scatter(dfPrueba[0][dfPrueba.y_pred_Dbscan == i-1],dfPrueba[1][dfPrueba.y_pred_Dbscan == i-1],s=10,c=[colors[i]])\n",
        "  #Los puntos morados son los que tienen como clase -1 y son considerados como ruido por dbscan, se deverá eliminar esto del dataframe "
      ],
      "execution_count": 0,
      "outputs": [
        {
          "output_type": "display_data",
          "data": {
            "image/png": "[encoded data removed]",
            "text/plain": [
              "<Figure size 432x288 with 1 Axes>"
            ]
          },
          "metadata": {
            "tags": []
          }
        }
      ]
    },
    {
      "cell_type": "code",
      "metadata": {
        "id": "wdHYRW3baGTj",
        "colab_type": "code",
        "outputId": "c86a2cf1-a721-4dc0-ba29-6d5a77807bee",
        "colab": {
          "base_uri": "https://localhost:8080/",
          "height": 268
        }
      },
      "source": [
        "#Grafico sin ruido\n",
        "grups=len(set(dbscan.labels_))\n",
        "x = np.arange(grups)\n",
        "ys = [i+x+(i*x)**2 for i in range(grups)]\n",
        "colors = cm.rainbow(np.linspace(0, 1, len(ys)));\n",
        "for i in range(grups):\n",
        "  plt.scatter(dfPrueba[0][dfPrueba.y_pred_Dbscan == i],dfPrueba[1][dfPrueba.y_pred_Dbscan == i],s=10,c=[colors[i]])\n",
        "  #Los puntos morados son los que tienen como clase -1 y son considerados como ruido por dbscan, se deverá eliminar esto del dataframe "
      ],
      "execution_count": 0,
      "outputs": [
        {
          "output_type": "display_data",
          "data": {
            "image/png": "[encoded data removed]",
            "text/plain": [
              "<Figure size 432x288 with 1 Axes>"
            ]
          },
          "metadata": {
            "tags": []
          }
        }
      ]
    },
    {
      "cell_type": "markdown",
      "metadata": {
        "id": "VjqRuYcXdfTV",
        "colab_type": "text"
      },
      "source": [
        "**Se trabajará con DBScan y veremos que resultado se obtiene**"
      ]
    },
    {
      "cell_type": "code",
      "metadata": {
        "id": "ksCI3wCPI7oE",
        "colab_type": "code",
        "colab": {}
      },
      "source": [
        "rpt['y_pred_Dbscan']=dbscan.labels_"
      ],
      "execution_count": 0,
      "outputs": []
    },
    {
      "cell_type": "code",
      "metadata": {
        "id": "s8DHbgppBCzh",
        "colab_type": "code",
        "colab": {}
      },
      "source": [
        "rpt.head()"
      ],
      "execution_count": 0,
      "outputs": []
    },
    {
      "cell_type": "code",
      "metadata": {
        "id": "KjIO1hZldvTk",
        "colab_type": "code",
        "colab": {}
      },
      "source": [
        "#Necesitamos eliminar las clases que han sido clasificadas como ruido\n",
        "rpt[rpt.y_pred_Dbscan == -1]"
      ],
      "execution_count": 0,
      "outputs": []
    },
    {
      "cell_type": "markdown",
      "metadata": {
        "id": "tC9VrD28cHg5",
        "colab_type": "text"
      },
      "source": [
        "##**Clusterizacion con BayesianGaussianMixture**"
      ]
    },
    {
      "cell_type": "markdown",
      "metadata": {
        "id": "XFElpm-5SblL",
        "colab_type": "text"
      },
      "source": [
        "**Esto es solo con fines de visualización**"
      ]
    },
    {
      "cell_type": "code",
      "metadata": {
        "id": "8idwO5Xi_9Ze",
        "colab_type": "code",
        "outputId": "85091050-ef9f-473f-f42c-9df361e24fbe",
        "colab": {
          "base_uri": "https://localhost:8080/",
          "height": 164
        }
      },
      "source": [
        "from sklearn.mixture import BayesianGaussianMixture\n",
        "\n",
        "bgm = BayesianGaussianMixture(n_components=5, n_init=10, random_state=42,covariance_type='tied') #100\n",
        "bgm.fit(Xpca)"
      ],
      "execution_count": 0,
      "outputs": [
        {
          "output_type": "execute_result",
          "data": {
            "text/plain": [
              "BayesianGaussianMixture(covariance_prior=None, covariance_type='tied',\n",
              "                        degrees_of_freedom_prior=None, init_params='kmeans',\n",
              "                        max_iter=100, mean_precision_prior=None,\n",
              "                        mean_prior=None, n_components=5, n_init=10,\n",
              "                        random_state=42, reg_covar=1e-06, tol=0.001, verbose=0,\n",
              "                        verbose_interval=10, warm_start=False,\n",
              "                        weight_concentration_prior=None,\n",
              "                        weight_concentration_prior_type='dirichlet_process')"
            ]
          },
          "metadata": {
            "tags": []
          },
          "execution_count": 24
        }
      ]
    },
    {
      "cell_type": "code",
      "metadata": {
        "id": "JZiHzptXA0Ep",
        "colab_type": "code",
        "outputId": "a2afe18b-8e4a-4676-db50-c236776de5e4",
        "colab": {
          "base_uri": "https://localhost:8080/",
          "height": 35
        }
      },
      "source": [
        "np.round(bgm.weights_, 2)"
      ],
      "execution_count": 0,
      "outputs": [
        {
          "output_type": "execute_result",
          "data": {
            "text/plain": [
              "array([0.75, 0.12, 0.09, 0.02, 0.02])"
            ]
          },
          "metadata": {
            "tags": []
          },
          "execution_count": 25
        }
      ]
    },
    {
      "cell_type": "code",
      "metadata": {
        "id": "7FAWT-qqA-EN",
        "colab_type": "code",
        "colab": {}
      },
      "source": [
        "y_pred=bgm.predict(Xpca)"
      ],
      "execution_count": 0,
      "outputs": []
    },
    {
      "cell_type": "code",
      "metadata": {
        "id": "n7cmUvrwCeTE",
        "colab_type": "code",
        "colab": {}
      },
      "source": [
        "dfPrueba=pd.DataFrame(Xpca)\n",
        "dfPrueba['y_pred']=y_pred"
      ],
      "execution_count": 0,
      "outputs": []
    },
    {
      "cell_type": "code",
      "metadata": {
        "id": "f_SmbHNhCDoc",
        "colab_type": "code",
        "outputId": "536cfcc5-2b6f-4e6e-b7f4-5bfe63eb4344",
        "colab": {
          "base_uri": "https://localhost:8080/",
          "height": 269
        }
      },
      "source": [
        "import matplotlib.cm as cm\n",
        "grups=len(set(y_pred))\n",
        "x = np.arange(grups)\n",
        "ys = [i+x+(i*x)**2 for i in range(grups)]\n",
        "colors = cm.rainbow(np.linspace(0, 1, len(ys)));\n",
        "for i in range(grups):\n",
        "  plt.scatter(dfPrueba[0][dfPrueba.y_pred == i],dfPrueba[1][dfPrueba.y_pred == i],s=10,c=[colors[i]])"
      ],
      "execution_count": 0,
      "outputs": [
        {
          "output_type": "display_data",
          "data": {
            "image/png": "[encoded data removed]",
            "text/plain": [
              "<Figure size 432x288 with 1 Axes>"
            ]
          },
          "metadata": {
            "tags": []
          }
        }
      ]
    },
    {
      "cell_type": "markdown",
      "metadata": {
        "id": "1oY6t2uFSK9l",
        "colab_type": "text"
      },
      "source": [
        "**Sabemos que las clases de rimas no pueden ser solo 5 entonces se dividirá en multiplos de este y los componentes no pueden ser solo 2 entonces aplicaremos un PCA para quedarnos con 15 componentes**"
      ]
    },
    {
      "cell_type": "code",
      "metadata": {
        "id": "TOuUcE9-SnaN",
        "colab_type": "code",
        "outputId": "6a827df1-1cb8-41a6-cc10-568f303b9dfc",
        "colab": {
          "base_uri": "https://localhost:8080/",
          "height": 35
        }
      },
      "source": [
        "#Incrementaremos la varianza explicada aumentando la cantidad de componentes\n",
        "pca=PCA(n_components=15)\n",
        "Xpca=pca.fit_transform(X) \n",
        "pca.explained_variance_ratio_.sum() "
      ],
      "execution_count": 0,
      "outputs": [
        {
          "output_type": "execute_result",
          "data": {
            "text/plain": [
              "0.7957917386376637"
            ]
          },
          "metadata": {
            "tags": []
          },
          "execution_count": 29
        }
      ]
    },
    {
      "cell_type": "code",
      "metadata": {
        "id": "okZGLUASSSJW",
        "colab_type": "code",
        "outputId": "3098a018-55ac-4986-a0aa-e64cb0a315eb",
        "colab": {
          "base_uri": "https://localhost:8080/",
          "height": 164
        }
      },
      "source": [
        "bgm = BayesianGaussianMixture(n_components=100, n_init=10, random_state=42,covariance_type='tied') #100\n",
        "bgm.fit(Xpca)"
      ],
      "execution_count": 0,
      "outputs": [
        {
          "output_type": "execute_result",
          "data": {
            "text/plain": [
              "BayesianGaussianMixture(covariance_prior=None, covariance_type='tied',\n",
              "                        degrees_of_freedom_prior=None, init_params='kmeans',\n",
              "                        max_iter=100, mean_precision_prior=None,\n",
              "                        mean_prior=None, n_components=100, n_init=10,\n",
              "                        random_state=42, reg_covar=1e-06, tol=0.001, verbose=0,\n",
              "                        verbose_interval=10, warm_start=False,\n",
              "                        weight_concentration_prior=None,\n",
              "                        weight_concentration_prior_type='dirichlet_process')"
            ]
          },
          "metadata": {
            "tags": []
          },
          "execution_count": 30
        }
      ]
    },
    {
      "cell_type": "code",
      "metadata": {
        "id": "CrDvdJ3rSW0U",
        "colab_type": "code",
        "outputId": "41bbc76b-a58b-4747-f6a6-517d7770db0e",
        "colab": {
          "base_uri": "https://localhost:8080/",
          "height": 206
        }
      },
      "source": [
        "y_pred=bgm.predict(Xpca)\n",
        "#Agregamos la clusterizacion del modelo al dataframe\n",
        "rpt['y_pred_bgm']=y_pred\n",
        "rpt.head()"
      ],
      "execution_count": 0,
      "outputs": [
        {
          "output_type": "execute_result",
          "data": {
            "text/html": [
              "<div>\n",
              "<style scoped>\n",
              "    .dataframe tbody tr th:only-of-type {\n",
              "        vertical-align: middle;\n",
              "    }\n",
              "\n",
              "    .dataframe tbody tr th {\n",
              "        vertical-align: top;\n",
              "    }\n",
              "\n",
              "    .dataframe thead th {\n",
              "        text-align: right;\n",
              "    }\n",
              "</style>\n",
              "<table border=\"1\" class=\"dataframe\">\n",
              "  <thead>\n",
              "    <tr style=\"text-align: right;\">\n",
              "      <th></th>\n",
              "      <th>Verses</th>\n",
              "      <th>Rhymes</th>\n",
              "      <th>Target</th>\n",
              "      <th>Rhyme</th>\n",
              "      <th>Last_Words</th>\n",
              "      <th>Tag</th>\n",
              "      <th>Dep</th>\n",
              "      <th>Phonemes</th>\n",
              "      <th>y_pred_bgm</th>\n",
              "    </tr>\n",
              "  </thead>\n",
              "  <tbody>\n",
              "    <tr>\n",
              "      <th>0</th>\n",
              "      <td>Verse 1</td>\n",
              "      <td>Rhyme 1</td>\n",
              "      <td>Verse 1 Rhyme 1</td>\n",
              "      <td>Let the suicide doors up</td>\n",
              "      <td>[up]</td>\n",
              "      <td>RP</td>\n",
              "      <td>prt</td>\n",
              "      <td>AH1 P</td>\n",
              "      <td>4</td>\n",
              "    </tr>\n",
              "    <tr>\n",
              "      <th>1</th>\n",
              "      <td>Verse 1</td>\n",
              "      <td>Rhyme 1</td>\n",
              "      <td>Verse 1 Rhyme 1</td>\n",
              "      <td>I threw suicides on the tour bus</td>\n",
              "      <td>[bus]</td>\n",
              "      <td>NN</td>\n",
              "      <td>pobj</td>\n",
              "      <td>B AH1 S</td>\n",
              "      <td>4</td>\n",
              "    </tr>\n",
              "    <tr>\n",
              "      <th>2</th>\n",
              "      <td>Verse 1</td>\n",
              "      <td>Rhyme 2</td>\n",
              "      <td>Verse 1 Rhyme 2</td>\n",
              "      <td>I threw suicides on the private jet</td>\n",
              "      <td>[jet]</td>\n",
              "      <td>NN</td>\n",
              "      <td>pobj</td>\n",
              "      <td>JH EH1 T</td>\n",
              "      <td>0</td>\n",
              "    </tr>\n",
              "    <tr>\n",
              "      <th>3</th>\n",
              "      <td>Verse 1</td>\n",
              "      <td>Rhyme 2</td>\n",
              "      <td>Verse 1 Rhyme 2</td>\n",
              "      <td>You know what that mean, I'm fly to death</td>\n",
              "      <td>[death]</td>\n",
              "      <td>NN</td>\n",
              "      <td>pobj</td>\n",
              "      <td>D EH1 TH</td>\n",
              "      <td>0</td>\n",
              "    </tr>\n",
              "    <tr>\n",
              "      <th>4</th>\n",
              "      <td>Verse 1</td>\n",
              "      <td>Rhyme 3</td>\n",
              "      <td>Verse 1 Rhyme 3</td>\n",
              "      <td>I step in Def Jam buildin' like I'm the shit</td>\n",
              "      <td>[shit]</td>\n",
              "      <td>NN</td>\n",
              "      <td>attr</td>\n",
              "      <td>SH IH1 T</td>\n",
              "      <td>10</td>\n",
              "    </tr>\n",
              "  </tbody>\n",
              "</table>\n",
              "</div>"
            ],
            "text/plain": [
              "    Verses   Rhymes           Target  ...   Dep  Phonemes y_pred_bgm\n",
              "0  Verse 1  Rhyme 1  Verse 1 Rhyme 1  ...   prt     AH1 P          4\n",
              "1  Verse 1  Rhyme 1  Verse 1 Rhyme 1  ...  pobj   B AH1 S          4\n",
              "2  Verse 1  Rhyme 2  Verse 1 Rhyme 2  ...  pobj  JH EH1 T          0\n",
              "3  Verse 1  Rhyme 2  Verse 1 Rhyme 2  ...  pobj  D EH1 TH          0\n",
              "4  Verse 1  Rhyme 3  Verse 1 Rhyme 3  ...  attr  SH IH1 T         10\n",
              "\n",
              "[5 rows x 9 columns]"
            ]
          },
          "metadata": {
            "tags": []
          },
          "execution_count": 31
        }
      ]
    },
    {
      "cell_type": "markdown",
      "metadata": {
        "id": "Yf_aTN4FUfg4",
        "colab_type": "text"
      },
      "source": [
        "# *Preprocesamiento de la data*"
      ]
    },
    {
      "cell_type": "code",
      "metadata": {
        "id": "Ic68z40IeM6a",
        "colab_type": "code",
        "outputId": "78c442bd-862b-4e40-fd49-9601530749ca",
        "colab": {
          "base_uri": "https://localhost:8080/",
          "height": 226
        }
      },
      "source": [
        "#El bag of phonemes es un array pero lo convertiremos en un dataframe con el fin de manejar sus indices, esto nos guiará para realizar las pruebas\n",
        "df_X=pd.DataFrame(X)\n",
        "df_X.head()"
      ],
      "execution_count": 0,
      "outputs": [
        {
          "output_type": "execute_result",
          "data": {
            "text/html": [
              "<div>\n",
              "<style scoped>\n",
              "    .dataframe tbody tr th:only-of-type {\n",
              "        vertical-align: middle;\n",
              "    }\n",
              "\n",
              "    .dataframe tbody tr th {\n",
              "        vertical-align: top;\n",
              "    }\n",
              "\n",
              "    .dataframe thead th {\n",
              "        text-align: right;\n",
              "    }\n",
              "</style>\n",
              "<table border=\"1\" class=\"dataframe\">\n",
              "  <thead>\n",
              "    <tr style=\"text-align: right;\">\n",
              "      <th></th>\n",
              "      <th>0</th>\n",
              "      <th>1</th>\n",
              "      <th>2</th>\n",
              "      <th>3</th>\n",
              "      <th>4</th>\n",
              "      <th>5</th>\n",
              "      <th>6</th>\n",
              "      <th>7</th>\n",
              "      <th>8</th>\n",
              "      <th>9</th>\n",
              "      <th>10</th>\n",
              "      <th>11</th>\n",
              "      <th>12</th>\n",
              "      <th>13</th>\n",
              "      <th>14</th>\n",
              "      <th>15</th>\n",
              "      <th>16</th>\n",
              "      <th>17</th>\n",
              "      <th>18</th>\n",
              "      <th>19</th>\n",
              "      <th>20</th>\n",
              "      <th>21</th>\n",
              "      <th>22</th>\n",
              "      <th>23</th>\n",
              "      <th>24</th>\n",
              "      <th>25</th>\n",
              "      <th>26</th>\n",
              "      <th>27</th>\n",
              "      <th>28</th>\n",
              "      <th>29</th>\n",
              "      <th>30</th>\n",
              "      <th>31</th>\n",
              "      <th>32</th>\n",
              "      <th>33</th>\n",
              "      <th>34</th>\n",
              "      <th>35</th>\n",
              "      <th>36</th>\n",
              "      <th>37</th>\n",
              "      <th>38</th>\n",
              "      <th>39</th>\n",
              "      <th>40</th>\n",
              "      <th>41</th>\n",
              "      <th>42</th>\n",
              "      <th>43</th>\n",
              "      <th>44</th>\n",
              "      <th>45</th>\n",
              "      <th>46</th>\n",
              "      <th>47</th>\n",
              "      <th>48</th>\n",
              "    </tr>\n",
              "  </thead>\n",
              "  <tbody>\n",
              "    <tr>\n",
              "      <th>0</th>\n",
              "      <td>0</td>\n",
              "      <td>0</td>\n",
              "      <td>0</td>\n",
              "      <td>0</td>\n",
              "      <td>0</td>\n",
              "      <td>0</td>\n",
              "      <td>0</td>\n",
              "      <td>1</td>\n",
              "      <td>0</td>\n",
              "      <td>0</td>\n",
              "      <td>0</td>\n",
              "      <td>0</td>\n",
              "      <td>0</td>\n",
              "      <td>0</td>\n",
              "      <td>0</td>\n",
              "      <td>0</td>\n",
              "      <td>0</td>\n",
              "      <td>0</td>\n",
              "      <td>0</td>\n",
              "      <td>0</td>\n",
              "      <td>0</td>\n",
              "      <td>0</td>\n",
              "      <td>0</td>\n",
              "      <td>0</td>\n",
              "      <td>0</td>\n",
              "      <td>0</td>\n",
              "      <td>0</td>\n",
              "      <td>0</td>\n",
              "      <td>0</td>\n",
              "      <td>0</td>\n",
              "      <td>0</td>\n",
              "      <td>0</td>\n",
              "      <td>0</td>\n",
              "      <td>0</td>\n",
              "      <td>0</td>\n",
              "      <td>0</td>\n",
              "      <td>0</td>\n",
              "      <td>0</td>\n",
              "      <td>0</td>\n",
              "      <td>0</td>\n",
              "      <td>0</td>\n",
              "      <td>0</td>\n",
              "      <td>0</td>\n",
              "      <td>0</td>\n",
              "      <td>0</td>\n",
              "      <td>0</td>\n",
              "      <td>0</td>\n",
              "      <td>0</td>\n",
              "      <td>0</td>\n",
              "    </tr>\n",
              "    <tr>\n",
              "      <th>1</th>\n",
              "      <td>0</td>\n",
              "      <td>0</td>\n",
              "      <td>0</td>\n",
              "      <td>0</td>\n",
              "      <td>0</td>\n",
              "      <td>0</td>\n",
              "      <td>0</td>\n",
              "      <td>1</td>\n",
              "      <td>0</td>\n",
              "      <td>0</td>\n",
              "      <td>0</td>\n",
              "      <td>0</td>\n",
              "      <td>0</td>\n",
              "      <td>0</td>\n",
              "      <td>0</td>\n",
              "      <td>0</td>\n",
              "      <td>0</td>\n",
              "      <td>0</td>\n",
              "      <td>0</td>\n",
              "      <td>0</td>\n",
              "      <td>0</td>\n",
              "      <td>0</td>\n",
              "      <td>0</td>\n",
              "      <td>0</td>\n",
              "      <td>0</td>\n",
              "      <td>0</td>\n",
              "      <td>0</td>\n",
              "      <td>0</td>\n",
              "      <td>0</td>\n",
              "      <td>0</td>\n",
              "      <td>0</td>\n",
              "      <td>0</td>\n",
              "      <td>0</td>\n",
              "      <td>0</td>\n",
              "      <td>0</td>\n",
              "      <td>0</td>\n",
              "      <td>0</td>\n",
              "      <td>0</td>\n",
              "      <td>0</td>\n",
              "      <td>0</td>\n",
              "      <td>0</td>\n",
              "      <td>0</td>\n",
              "      <td>0</td>\n",
              "      <td>0</td>\n",
              "      <td>0</td>\n",
              "      <td>0</td>\n",
              "      <td>0</td>\n",
              "      <td>0</td>\n",
              "      <td>0</td>\n",
              "    </tr>\n",
              "    <tr>\n",
              "      <th>2</th>\n",
              "      <td>0</td>\n",
              "      <td>0</td>\n",
              "      <td>0</td>\n",
              "      <td>0</td>\n",
              "      <td>0</td>\n",
              "      <td>0</td>\n",
              "      <td>0</td>\n",
              "      <td>0</td>\n",
              "      <td>0</td>\n",
              "      <td>0</td>\n",
              "      <td>0</td>\n",
              "      <td>0</td>\n",
              "      <td>0</td>\n",
              "      <td>0</td>\n",
              "      <td>0</td>\n",
              "      <td>0</td>\n",
              "      <td>0</td>\n",
              "      <td>0</td>\n",
              "      <td>0</td>\n",
              "      <td>0</td>\n",
              "      <td>1</td>\n",
              "      <td>0</td>\n",
              "      <td>0</td>\n",
              "      <td>0</td>\n",
              "      <td>0</td>\n",
              "      <td>0</td>\n",
              "      <td>0</td>\n",
              "      <td>0</td>\n",
              "      <td>0</td>\n",
              "      <td>0</td>\n",
              "      <td>0</td>\n",
              "      <td>0</td>\n",
              "      <td>0</td>\n",
              "      <td>0</td>\n",
              "      <td>0</td>\n",
              "      <td>1</td>\n",
              "      <td>0</td>\n",
              "      <td>0</td>\n",
              "      <td>0</td>\n",
              "      <td>0</td>\n",
              "      <td>0</td>\n",
              "      <td>0</td>\n",
              "      <td>0</td>\n",
              "      <td>0</td>\n",
              "      <td>0</td>\n",
              "      <td>0</td>\n",
              "      <td>0</td>\n",
              "      <td>0</td>\n",
              "      <td>0</td>\n",
              "    </tr>\n",
              "    <tr>\n",
              "      <th>3</th>\n",
              "      <td>0</td>\n",
              "      <td>0</td>\n",
              "      <td>0</td>\n",
              "      <td>0</td>\n",
              "      <td>0</td>\n",
              "      <td>0</td>\n",
              "      <td>0</td>\n",
              "      <td>0</td>\n",
              "      <td>0</td>\n",
              "      <td>0</td>\n",
              "      <td>0</td>\n",
              "      <td>0</td>\n",
              "      <td>0</td>\n",
              "      <td>0</td>\n",
              "      <td>0</td>\n",
              "      <td>0</td>\n",
              "      <td>0</td>\n",
              "      <td>0</td>\n",
              "      <td>0</td>\n",
              "      <td>0</td>\n",
              "      <td>1</td>\n",
              "      <td>0</td>\n",
              "      <td>0</td>\n",
              "      <td>0</td>\n",
              "      <td>0</td>\n",
              "      <td>0</td>\n",
              "      <td>0</td>\n",
              "      <td>0</td>\n",
              "      <td>0</td>\n",
              "      <td>0</td>\n",
              "      <td>0</td>\n",
              "      <td>0</td>\n",
              "      <td>0</td>\n",
              "      <td>0</td>\n",
              "      <td>0</td>\n",
              "      <td>0</td>\n",
              "      <td>0</td>\n",
              "      <td>0</td>\n",
              "      <td>0</td>\n",
              "      <td>0</td>\n",
              "      <td>0</td>\n",
              "      <td>0</td>\n",
              "      <td>1</td>\n",
              "      <td>0</td>\n",
              "      <td>0</td>\n",
              "      <td>0</td>\n",
              "      <td>0</td>\n",
              "      <td>0</td>\n",
              "      <td>0</td>\n",
              "    </tr>\n",
              "    <tr>\n",
              "      <th>4</th>\n",
              "      <td>0</td>\n",
              "      <td>0</td>\n",
              "      <td>0</td>\n",
              "      <td>0</td>\n",
              "      <td>0</td>\n",
              "      <td>0</td>\n",
              "      <td>0</td>\n",
              "      <td>0</td>\n",
              "      <td>0</td>\n",
              "      <td>0</td>\n",
              "      <td>0</td>\n",
              "      <td>0</td>\n",
              "      <td>0</td>\n",
              "      <td>0</td>\n",
              "      <td>0</td>\n",
              "      <td>0</td>\n",
              "      <td>0</td>\n",
              "      <td>0</td>\n",
              "      <td>0</td>\n",
              "      <td>0</td>\n",
              "      <td>0</td>\n",
              "      <td>0</td>\n",
              "      <td>0</td>\n",
              "      <td>0</td>\n",
              "      <td>0</td>\n",
              "      <td>0</td>\n",
              "      <td>0</td>\n",
              "      <td>0</td>\n",
              "      <td>0</td>\n",
              "      <td>0</td>\n",
              "      <td>1</td>\n",
              "      <td>0</td>\n",
              "      <td>0</td>\n",
              "      <td>0</td>\n",
              "      <td>0</td>\n",
              "      <td>0</td>\n",
              "      <td>0</td>\n",
              "      <td>0</td>\n",
              "      <td>0</td>\n",
              "      <td>0</td>\n",
              "      <td>0</td>\n",
              "      <td>1</td>\n",
              "      <td>0</td>\n",
              "      <td>0</td>\n",
              "      <td>0</td>\n",
              "      <td>0</td>\n",
              "      <td>0</td>\n",
              "      <td>0</td>\n",
              "      <td>0</td>\n",
              "    </tr>\n",
              "  </tbody>\n",
              "</table>\n",
              "</div>"
            ],
            "text/plain": [
              "   0   1   2   3   4   5   6   7   8   ...  40  41  42  43  44  45  46  47  48\n",
              "0   0   0   0   0   0   0   0   1   0  ...   0   0   0   0   0   0   0   0   0\n",
              "1   0   0   0   0   0   0   0   1   0  ...   0   0   0   0   0   0   0   0   0\n",
              "2   0   0   0   0   0   0   0   0   0  ...   0   0   0   0   0   0   0   0   0\n",
              "3   0   0   0   0   0   0   0   0   0  ...   0   0   1   0   0   0   0   0   0\n",
              "4   0   0   0   0   0   0   0   0   0  ...   0   1   0   0   0   0   0   0   0\n",
              "\n",
              "[5 rows x 49 columns]"
            ]
          },
          "metadata": {
            "tags": []
          },
          "execution_count": 37
        }
      ]
    },
    {
      "cell_type": "code",
      "metadata": {
        "id": "zU-mRhXuaSr1",
        "colab_type": "code",
        "outputId": "334d012d-19d8-4ad9-faac-02d26f0d1191",
        "colab": {
          "base_uri": "https://localhost:8080/",
          "height": 35
        }
      },
      "source": [
        "#Obtencion del target\n",
        "y=rpt.y_pred_bgm.copy()\n",
        "y.shape"
      ],
      "execution_count": 0,
      "outputs": [
        {
          "output_type": "execute_result",
          "data": {
            "text/plain": [
              "(6192,)"
            ]
          },
          "metadata": {
            "tags": []
          },
          "execution_count": 38
        }
      ]
    },
    {
      "cell_type": "code",
      "metadata": {
        "id": "P5_MQFBFXtAW",
        "colab_type": "code",
        "outputId": "92c16985-bcfc-4356-cd50-c1b3c8253b98",
        "colab": {
          "base_uri": "https://localhost:8080/",
          "height": 35
        }
      },
      "source": [
        "df_X.shape,y.shape"
      ],
      "execution_count": 0,
      "outputs": [
        {
          "output_type": "execute_result",
          "data": {
            "text/plain": [
              "((6192, 49), (6192,))"
            ]
          },
          "metadata": {
            "tags": []
          },
          "execution_count": 39
        }
      ]
    },
    {
      "cell_type": "code",
      "metadata": {
        "id": "oiToisSib-uG",
        "colab_type": "code",
        "colab": {}
      },
      "source": [
        "#Primero convertimos el objetivo en categoria luego convertimos a vectores con la funcion de Keras(to_categorical)\n",
        "y_not_categorical=y\n",
        "y=to_categorical(y) #Convierte las clases que son numeros en un arreglo aplicando OneHotEncoding"
      ],
      "execution_count": 0,
      "outputs": []
    },
    {
      "cell_type": "code",
      "metadata": {
        "id": "wt0MMJpvcuCL",
        "colab_type": "code",
        "colab": {}
      },
      "source": [
        "#Division de la data para el entrenamiento y la prueba\n",
        "from sklearn.model_selection import train_test_split\n",
        "X_train,X_test,y_train,y_test =train_test_split(df_X,y,test_size=0.1,random_state=2019,shuffle=True)"
      ],
      "execution_count": 0,
      "outputs": []
    },
    {
      "cell_type": "markdown",
      "metadata": {
        "id": "cJko3ErI-5GW",
        "colab_type": "text"
      },
      "source": [
        "# **Modelando**"
      ]
    },
    {
      "cell_type": "code",
      "metadata": {
        "id": "au9e9linQdGj",
        "colab_type": "code",
        "colab": {}
      },
      "source": [
        "#Definimos el modelo de red neuronal a usar\n",
        "def build_model(len_row):\n",
        "\n",
        "  model=Sequential()\n",
        "  \n",
        "  model.add(layers.Dropout(0.1,input_shape=(len_row,)))\n",
        "\n",
        "  model.add(Dense(120,init='uniform',activation='tanh'))\n",
        "  \n",
        "  #model.add(layers.Dropout(0.2))\n",
        "  \n",
        "  model.add(Dense(100,init='uniform',activation='softmax'))\n",
        "  \n",
        "  \n",
        "  \n",
        "  model.compile(optimizer=\"rmsprop\", loss='categorical_crossentropy', metrics=['accuracy']) # El optimizer está relacionado a los pesos(W) de los nodos de las neuronas\n",
        "  #model.compile(optimizer=\"rmsprop\", loss='categorical_crossentropy', metrics=['accuracy'])\n",
        "  #categorical_crossentropy,sparse_categorical_crossentropy(No necesita one hot encoding al target)\n",
        "  #Categorical crossentropy se utiliza cuando el problema es multiclass target, sino es binary crossentropy\n",
        "  \n",
        "  return model"
      ],
      "execution_count": 0,
      "outputs": []
    },
    {
      "cell_type": "code",
      "metadata": {
        "id": "DMTYu2xeeYCi",
        "colab_type": "code",
        "outputId": "3ccd83b3-c537-40fb-824c-4b7f5ff9ddcf",
        "colab": {
          "base_uri": "https://localhost:8080/",
          "height": 570
        }
      },
      "source": [
        "model = build_model(X_train.shape[1])\n",
        "model.summary()"
      ],
      "execution_count": 0,
      "outputs": [
        {
          "output_type": "stream",
          "text": [
            "WARNING:tensorflow:From /usr/local/lib/python3.6/dist-packages/keras/backend/tensorflow_backend.py:66: The name tf.get_default_graph is deprecated. Please use tf.compat.v1.get_default_graph instead.\n",
            "\n",
            "WARNING:tensorflow:From /usr/local/lib/python3.6/dist-packages/keras/backend/tensorflow_backend.py:541: The name tf.placeholder is deprecated. Please use tf.compat.v1.placeholder instead.\n",
            "\n",
            "WARNING:tensorflow:From /usr/local/lib/python3.6/dist-packages/keras/backend/tensorflow_backend.py:148: The name tf.placeholder_with_default is deprecated. Please use tf.compat.v1.placeholder_with_default instead.\n",
            "\n",
            "WARNING:tensorflow:From /usr/local/lib/python3.6/dist-packages/keras/backend/tensorflow_backend.py:3733: calling dropout (from tensorflow.python.ops.nn_ops) with keep_prob is deprecated and will be removed in a future version.\n",
            "Instructions for updating:\n",
            "Please use `rate` instead of `keep_prob`. Rate should be set to `rate = 1 - keep_prob`.\n",
            "WARNING:tensorflow:From /usr/local/lib/python3.6/dist-packages/keras/backend/tensorflow_backend.py:4432: The name tf.random_uniform is deprecated. Please use tf.random.uniform instead.\n",
            "\n",
            "WARNING:tensorflow:From /usr/local/lib/python3.6/dist-packages/keras/optimizers.py:793: The name tf.train.Optimizer is deprecated. Please use tf.compat.v1.train.Optimizer instead.\n",
            "\n",
            "WARNING:tensorflow:From /usr/local/lib/python3.6/dist-packages/keras/backend/tensorflow_backend.py:3576: The name tf.log is deprecated. Please use tf.math.log instead.\n",
            "\n",
            "Model: \"sequential_1\"\n",
            "_________________________________________________________________\n",
            "Layer (type)                 Output Shape              Param #   \n",
            "=================================================================\n",
            "dropout_1 (Dropout)          (None, 49)                0         \n",
            "_________________________________________________________________\n",
            "dense_1 (Dense)              (None, 120)               6000      \n",
            "_________________________________________________________________\n",
            "dense_2 (Dense)              (None, 100)               12100     \n",
            "=================================================================\n",
            "Total params: 18,100\n",
            "Trainable params: 18,100\n",
            "Non-trainable params: 0\n",
            "_________________________________________________________________\n"
          ],
          "name": "stdout"
        }
      ]
    },
    {
      "cell_type": "code",
      "metadata": {
        "id": "0TNNQXvse1VD",
        "colab_type": "code",
        "outputId": "83cd1ad5-15a6-4f05-a950-645ac332db81",
        "colab": {
          "base_uri": "https://localhost:8080/",
          "height": 478
        }
      },
      "source": [
        "#Entrenamos la red neuronal\n",
        "history = model.fit(X_train, y_train, batch_size=128, epochs=10, validation_data=(X_test, y_test)) # EL loss está relacionado a cuando lejos esta la prediccion de ser correcta"
      ],
      "execution_count": 0,
      "outputs": [
        {
          "output_type": "stream",
          "text": [
            "WARNING:tensorflow:From /usr/local/lib/python3.6/dist-packages/tensorflow/python/ops/math_grad.py:1250: add_dispatch_support.<locals>.wrapper (from tensorflow.python.ops.array_ops) is deprecated and will be removed in a future version.\n",
            "Instructions for updating:\n",
            "Use tf.where in 2.0, which has the same broadcast rule as np.where\n",
            "Train on 5572 samples, validate on 620 samples\n",
            "Epoch 1/10\n",
            "5572/5572 [==============================] - 9s 2ms/step - loss: 4.3153 - acc: 0.5809 - val_loss: 3.9196 - val_acc: 0.6726\n",
            "Epoch 2/10\n",
            "5572/5572 [==============================] - 0s 46us/step - loss: 3.4763 - acc: 0.5772 - val_loss: 2.9691 - val_acc: 0.6113\n",
            "Epoch 3/10\n",
            "5572/5572 [==============================] - 0s 33us/step - loss: 2.6225 - acc: 0.6113 - val_loss: 2.2037 - val_acc: 0.6887\n",
            "Epoch 4/10\n",
            "5572/5572 [==============================] - 0s 36us/step - loss: 2.0291 - acc: 0.6093 - val_loss: 1.6578 - val_acc: 0.6919\n",
            "Epoch 5/10\n",
            "5572/5572 [==============================] - 0s 37us/step - loss: 1.6186 - acc: 0.6290 - val_loss: 1.2686 - val_acc: 0.7210\n",
            "Epoch 6/10\n",
            "5572/5572 [==============================] - 0s 36us/step - loss: 1.3303 - acc: 0.6777 - val_loss: 0.9777 - val_acc: 0.7806\n",
            "Epoch 7/10\n",
            "5572/5572 [==============================] - 0s 38us/step - loss: 1.1170 - acc: 0.7382 - val_loss: 0.7448 - val_acc: 0.8403\n",
            "Epoch 8/10\n",
            "5572/5572 [==============================] - 0s 36us/step - loss: 0.9439 - acc: 0.8033 - val_loss: 0.5747 - val_acc: 0.9258\n",
            "Epoch 9/10\n",
            "5572/5572 [==============================] - 0s 37us/step - loss: 0.8273 - acc: 0.8345 - val_loss: 0.4545 - val_acc: 0.9565\n",
            "Epoch 10/10\n",
            "5572/5572 [==============================] - 0s 37us/step - loss: 0.7637 - acc: 0.8476 - val_loss: 0.3715 - val_acc: 0.9661\n"
          ],
          "name": "stdout"
        }
      ]
    },
    {
      "cell_type": "markdown",
      "metadata": {
        "id": "_oztwYTW46ks",
        "colab_type": "text"
      },
      "source": [
        "# **Resultados del modelo**"
      ]
    },
    {
      "cell_type": "code",
      "metadata": {
        "id": "4OKZL4c445MG",
        "colab_type": "code",
        "colab": {}
      },
      "source": [
        "#Creamos una función para graficar el accuracy o loss del entrenamiento\n",
        "def plot_history(title, train, test, y_title, x_title):\n",
        "  \"\"\"Funcion para graficar el accuracy y el loss basandose en lo obtenido al momento de entrenado el modelo.\n",
        "\n",
        "  Paremtros:\n",
        "            -title: Título del plot\n",
        "            -train: Valor del accuracy o loss de la data de entrenamiento\n",
        "            -test: Valor del accuracy o loss de la data de prueba\n",
        "            -y_title: Titulo del eje y\n",
        "            -x_title: Titulo del eje x\n",
        "  \n",
        "  Retorna: Retorna el gráfico a partir de los parametros ingresados.\n",
        "  \"\"\"\n",
        "  plt.title(title)\n",
        "  plt.plot(train)\n",
        "  plt.plot(test)\n",
        "  plt.ylabel(y_title)\n",
        "  plt.xlabel(x_title)\n",
        "  plt.legend(['Train', 'Test'])\n",
        "  plt.show()"
      ],
      "execution_count": 0,
      "outputs": []
    },
    {
      "cell_type": "code",
      "metadata": {
        "id": "pHnYha534_ua",
        "colab_type": "code",
        "outputId": "310944c2-987a-42fc-c869-798fe0f2405c",
        "colab": {
          "base_uri": "https://localhost:8080/",
          "height": 295
        }
      },
      "source": [
        "#Visualizamos el accuracy\n",
        "plot_history(\"Accuracy Plot\", history.history['acc'], history.history['val_acc'], \"Accuracy\", \"Epocas\")"
      ],
      "execution_count": 0,
      "outputs": [
        {
          "output_type": "display_data",
          "data": {
            "image/png": "[encoded data removed]",
            "text/plain": [
              "<Figure size 432x288 with 1 Axes>"
            ]
          },
          "metadata": {
            "tags": []
          }
        }
      ]
    },
    {
      "cell_type": "code",
      "metadata": {
        "id": "ZdGN8CCY5PCr",
        "colab_type": "code",
        "outputId": "d3bec9cc-9bb2-40c4-9b46-d44157355bda",
        "colab": {
          "base_uri": "https://localhost:8080/",
          "height": 295
        }
      },
      "source": [
        "#Visualizamos el loss\n",
        "plot_history(\"Loss Plot\", history.history['loss'], history.history['val_loss'], \"Loss\", \"Epocas\")"
      ],
      "execution_count": 0,
      "outputs": [
        {
          "output_type": "display_data",
          "data": {
            "image/png": "[encoded data removed]",
            "text/plain": [
              "<Figure size 432x288 with 1 Axes>"
            ]
          },
          "metadata": {
            "tags": []
          }
        }
      ]
    },
    {
      "cell_type": "markdown",
      "metadata": {
        "id": "-DNfZ11Z8uVF",
        "colab_type": "text"
      },
      "source": [
        "# **Predicciones con el modelo**"
      ]
    },
    {
      "cell_type": "code",
      "metadata": {
        "id": "pMGUrSFnU3ve",
        "colab_type": "code",
        "colab": {}
      },
      "source": [
        "def makeResponse(input_sentence):\n",
        "  \"\"\"Funcion que responde al mensaje ingresado con una rima del dataset.\n",
        "  \"\"\"\n",
        "  df_test=creatingDf(input_sentence)#Obtencion de sus caracteristicas\n",
        "  bag_of_word_input=cv.transform(df_test.Phonemes).toarray() #Representacion de sus fonemas a traves de un arreglo\n",
        "  input_prediction=model.predict_classes(bag_of_word_input)  #Prediccion de la clase de la frase ingresada\n",
        "  #Obtenemos sus index para filtrar nuestra busqueda en el doc2vec\n",
        "  index=rpt[rpt.y_pred_bgm == input_prediction[0]].index\n",
        "\n",
        "  #Ahora tokenizamos sentencia\n",
        "  tokens_gensim=usingGensim(input_sentence,test=True)\n",
        "  #Obtenemos su representacion en vector\n",
        "  input_vector = modelDoc2Vec.infer_vector(tokens_gensim)\n",
        "  #Las similitudes que tiene la frase ingresada con todas las rimas, nos da como resultado una lista de tuplas, la tupla esta compuesta por el indice y su similiradad con la frase\n",
        "  sims=modelDoc2Vec.docvecs.most_similar([input_vector], topn=len(taggedDocuments))\n",
        "  #Recorremos cada tupla hasta encontrar los 10 primeros que mas se parecen y que tienen la misma clase\n",
        "  index_most_simi=[]\n",
        "  for tupla in sims:\n",
        "    if tupla[0] in list(index): #Solo si el indice de la tupla se encuentra entre los indices hallados anteriormente\n",
        "      index_most_simi.append(tupla)\n",
        "      if len(index_most_simi) == 15:\n",
        "        break\n",
        "  \n",
        "  rand_index=random.randrange(0, 15)\n",
        "  #Por ultimo usamos ese indice para obtener la rima\n",
        "  return rpt.Rhyme[rpt.index == index_most_simi[rand_index][0]].values[0]\n"
      ],
      "execution_count": 0,
      "outputs": []
    },
    {
      "cell_type": "code",
      "metadata": {
        "id": "SmNheVmgXYBw",
        "colab_type": "code",
        "outputId": "c694ae3e-4789-42a7-c7c7-4b83d664f375",
        "colab": {
          "base_uri": "https://localhost:8080/",
          "height": 35
        }
      },
      "source": [
        "print(makeResponse(\"How are you?\"))"
      ],
      "execution_count": 0,
      "outputs": [
        {
          "output_type": "stream",
          "text": [
            "I'm talkin' Montell Jordan, this is how we do\n"
          ],
          "name": "stdout"
        }
      ]
    },
    {
      "cell_type": "markdown",
      "metadata": {
        "id": "BiuX2nPUmGLz",
        "colab_type": "text"
      },
      "source": [
        "#**Construccion del chatbot**"
      ]
    },
    {
      "cell_type": "markdown",
      "metadata": {
        "id": "cuDLCi6As-I5",
        "colab_type": "text"
      },
      "source": [
        "**Intents asociados a sentencias**"
      ]
    },
    {
      "cell_type": "code",
      "metadata": {
        "id": "ZOiD_y2xs9Pb",
        "colab_type": "code",
        "colab": {}
      },
      "source": [
        "dataset = \"\"\"\n",
        "*greet\n",
        "Hi\n",
        "Hello\n",
        "Hey there\n",
        "\n",
        "*affirm\n",
        "Yes\n",
        "Love it\n",
        "Yeah\n",
        "Yep\n",
        "\n",
        "*negation\n",
        "No\n",
        "No, I don't \n",
        "Not at the moment\n",
        "Not really\n",
        "\n",
        "*stop\n",
        "stop\n",
        "quit\n",
        "\"\"\""
      ],
      "execution_count": 0,
      "outputs": []
    },
    {
      "cell_type": "markdown",
      "metadata": {
        "id": "zi7qyYkvxfo3",
        "colab_type": "text"
      },
      "source": [
        "**Metodos para crear el dataset**"
      ]
    },
    {
      "cell_type": "code",
      "metadata": {
        "id": "RJHeNB5IxaRb",
        "colab_type": "code",
        "colab": {}
      },
      "source": [
        "def filter_intents_and_their_examples(dataset, intent_character = \"*\"):\n",
        "  filter_list = list(filter(None, dataset.split(\"\\n\")))\n",
        "  intents_examples = {}\n",
        "  intent = \"\"\n",
        "  for element in filter_list:\n",
        "    if element[0] == intent_character:\n",
        "      intent = element[1:]\n",
        "    else:\n",
        "      if intent not in intents_examples:\n",
        "        intents_examples[intent] = [element]\n",
        "      else:\n",
        "        intents_examples[intent].append(element)\n",
        "  return intents_examples\n",
        "\n",
        "def transform_examples_in_vectors(intents_examples, nlp):\n",
        "  intents_vector_examples = {}\n",
        "  for key, values in intents_examples.items():\n",
        "    vector_examples = []\n",
        "    for example in values:\n",
        "      vector_examples.append(nlp(example).vector)\n",
        "    \n",
        "    intents_vector_examples[key] = vector_examples\n",
        "  return intents_vector_examples\n",
        "\n",
        "def create_x_and_y(intents_vector_examples):\n",
        "  x = []\n",
        "  y = []\n",
        "  for label, vector_examples in intents_vector_examples.items():\n",
        "    x.extend(vector_examples)\n",
        "    y.extend([label] * len(vector_examples))\n",
        "  \n",
        "  return x, y"
      ],
      "execution_count": 0,
      "outputs": []
    },
    {
      "cell_type": "markdown",
      "metadata": {
        "id": "g08w1EVkxnRG",
        "colab_type": "text"
      },
      "source": [
        "**Creando el dataset**"
      ]
    },
    {
      "cell_type": "code",
      "metadata": {
        "id": "8i9elqOCxkUi",
        "colab_type": "code",
        "colab": {}
      },
      "source": [
        "#Obteniendo un diccionario de intents con sus sentencias\n",
        "intents_examples = filter_intents_and_their_examples(dataset)\n",
        "\n",
        "#Transformando las sentencias a vectores en el diccionario\n",
        "intents_vector_examples = transform_examples_in_vectors(intents_examples, nlp)\n",
        "\n",
        "#Obteniendo los nombres de los intents\n",
        "intents = list(intents_vector_examples.keys())\n",
        "\n",
        "#Obteniendo x,y para entrenar un modelo de Machine Learning\n",
        "x, y = create_x_and_y(intents_vector_examples)"
      ],
      "execution_count": 0,
      "outputs": []
    },
    {
      "cell_type": "code",
      "metadata": {
        "id": "GLlmk9t51hXh",
        "colab_type": "code",
        "outputId": "22156fe6-4e98-412b-a11f-9d533bd713c9",
        "colab": {
          "base_uri": "https://localhost:8080/",
          "height": 90
        }
      },
      "source": [
        "intents_examples"
      ],
      "execution_count": 0,
      "outputs": [
        {
          "output_type": "execute_result",
          "data": {
            "text/plain": [
              "{'affirm': ['Yes', 'Love it', 'Yeah', 'Yep'],\n",
              " 'greet': ['Hi', 'Hello', 'Hey there'],\n",
              " 'negation': ['No', \"No, I don't \", 'Not at the moment', 'Not really'],\n",
              " 'stop': ['stop', 'quit']}"
            ]
          },
          "metadata": {
            "tags": []
          },
          "execution_count": 53
        }
      ]
    },
    {
      "cell_type": "markdown",
      "metadata": {
        "id": "PlDELOz5xsZd",
        "colab_type": "text"
      },
      "source": [
        "**Entrenando el modelo que predecirá los intents**"
      ]
    },
    {
      "cell_type": "code",
      "metadata": {
        "id": "DuBTGbW9xrJv",
        "colab_type": "code",
        "outputId": "3e2ad281-57f4-46a2-d0a6-38ce7dcf7c81",
        "colab": {
          "base_uri": "https://localhost:8080/",
          "height": 35
        }
      },
      "source": [
        "from sklearn.tree import DecisionTreeClassifier\n",
        "\n",
        "decision_tree_classifier = DecisionTreeClassifier()\n",
        "decision_tree_classifier.fit(x, y)\n",
        "\n",
        "#Evaluacion del accuracy\n",
        "accuracy = decision_tree_classifier.score(x, y)\n",
        "accuracy"
      ],
      "execution_count": 0,
      "outputs": [
        {
          "output_type": "execute_result",
          "data": {
            "text/plain": [
              "1.0"
            ]
          },
          "metadata": {
            "tags": []
          },
          "execution_count": 54
        }
      ]
    },
    {
      "cell_type": "markdown",
      "metadata": {
        "id": "78GQ9HYgx4No",
        "colab_type": "text"
      },
      "source": [
        "**Metodo que realizará la prediccion del intent**"
      ]
    },
    {
      "cell_type": "code",
      "metadata": {
        "id": "ztbFO_vhxwyE",
        "colab_type": "code",
        "colab": {}
      },
      "source": [
        "def predict_intent(sentence, nlp, model):\n",
        "  vector = nlp(sentence).vector\n",
        "  \n",
        "  intent = model.predict([vector])\n",
        "  return intent[0]"
      ],
      "execution_count": 0,
      "outputs": []
    },
    {
      "cell_type": "markdown",
      "metadata": {
        "id": "aAXCOEnYxJsi",
        "colab_type": "text"
      },
      "source": [
        "**Utterance asociados a sentencias**"
      ]
    },
    {
      "cell_type": "code",
      "metadata": {
        "id": "n9GiwUmCmBSF",
        "colab_type": "code",
        "colab": {}
      },
      "source": [
        "dataset = \"\"\"\n",
        "*greet\n",
        "Hey, what's up buddy ? Do you wanna rhyme ?\n",
        "How is it goin' bud ? Do you wanna play with some rhymes? \n",
        "Zup my nigga ? Would you like rap with me ?\n",
        "\n",
        "*affirm\n",
        "Alright, so just gimme a sentence and I'll continue with a rhyme .\n",
        "Awesome, show me what you got and I'll rhyme that.\n",
        "K, let's see what you got.\n",
        "\n",
        "*negation\n",
        "Hahaha it seems there's a coward around here. So come back as soon as possible.\n",
        "Alright, go to get warm and come back soon.\n",
        "K, no worries. Hope see ya soon.\n",
        "\n",
        "*goodbye\n",
        "That was exciting, I had fun dude. Take care man.\n",
        "You did really good my homie, Hope see ya soon.\n",
        "That was funny, I'll wait for your rhymes man.\n",
        "\"\"\""
      ],
      "execution_count": 0,
      "outputs": []
    },
    {
      "cell_type": "code",
      "metadata": {
        "id": "Q7C2ogrh87N8",
        "colab_type": "code",
        "colab": {}
      },
      "source": [
        "def filter_utterances_and_their_examples(dataset, utterance_character = \"*\"):\n",
        "  filter_list = list(filter(None, dataset.split(\"\\n\")))\n",
        "\n",
        "  utterances_examples = {}\n",
        "  utterance = \"\"\n",
        "  for element in filter_list:\n",
        "    if element[0] == utterance_character:\n",
        "      utterance = element[1:]\n",
        "    else:\n",
        "      if utterance not in utterances_examples:\n",
        "        utterances_examples[utterance] = [element]\n",
        "      else:\n",
        "        utterances_examples[utterance].append(element)\n",
        "  return utterances_examples"
      ],
      "execution_count": 0,
      "outputs": []
    },
    {
      "cell_type": "code",
      "metadata": {
        "id": "9HIcYMwF88G0",
        "colab_type": "code",
        "outputId": "707ab48b-1a77-4e09-bbb7-63faca396748",
        "colab": {
          "base_uri": "https://localhost:8080/",
          "height": 237
        }
      },
      "source": [
        "#Obteniendo un diccionario de utterances con sus sentencias\n",
        "utterances_examples = filter_utterances_and_their_examples(dataset)\n",
        "utterances_examples"
      ],
      "execution_count": 0,
      "outputs": [
        {
          "output_type": "execute_result",
          "data": {
            "text/plain": [
              "{'affirm': [\"Alright, so just gimme a sentence and I'll continue with a rhyme .\",\n",
              "  \"Awesome, show me what you got and I'll rhyme that.\",\n",
              "  \"K, let's see what you got.\"],\n",
              " 'goodbye': ['That was exciting, I had fun dude. Take care man.',\n",
              "  'You did really good my homie, Hope see ya soon.',\n",
              "  \"That was funny, I'll wait for your rhymes man.\"],\n",
              " 'greet': [\"Hey, what's up buddy ? Do you wanna rhyme ?\",\n",
              "  \"How is it goin' bud ? Do you wanna play with some rhymes? \",\n",
              "  'Zup my nigga ? Would you like rap with me ?'],\n",
              " 'negation': [\"Hahaha it seems there's a coward around here. So come back as soon as possible.\",\n",
              "  'Alright, go to get warm and come back soon.',\n",
              "  'K, no worries. Hope see ya soon.']}"
            ]
          },
          "metadata": {
            "tags": []
          },
          "execution_count": 58
        }
      ]
    },
    {
      "cell_type": "markdown",
      "metadata": {
        "id": "x4VQYuI68_lZ",
        "colab_type": "text"
      },
      "source": [
        "**Definimos las reglas de intents con utterances**"
      ]
    },
    {
      "cell_type": "code",
      "metadata": {
        "id": "rN9oDAH28-KK",
        "colab_type": "code",
        "colab": {}
      },
      "source": [
        "rules = {\n",
        "    \"greet\": \"greet\",\n",
        "    \"negation\": \"negation\",\n",
        "    \"affirm\": \"affirm\",\n",
        "    \"stop\": \"goodbye\"\n",
        "}"
      ],
      "execution_count": 0,
      "outputs": []
    },
    {
      "cell_type": "code",
      "metadata": {
        "id": "oocMftDE9LA1",
        "colab_type": "code",
        "colab": {}
      },
      "source": [
        "from random import choice\n",
        "\n",
        "def generate_answer(utterance, utterances_examples):\n",
        "  answers = utterances_examples[utterance]\n",
        "  answer = choice(answers)\n",
        "  return answer"
      ],
      "execution_count": 0,
      "outputs": []
    },
    {
      "cell_type": "code",
      "metadata": {
        "id": "wBqTkYxC9QEw",
        "colab_type": "code",
        "colab": {}
      },
      "source": [
        "def return_answer(sentence, nlp, model, rules, utterances_examples):\n",
        "  intent = predict_intent(sentence, nlp, decision_tree_classifier)\n",
        "  \n",
        "  utterance = rules[intent]\n",
        "  \n",
        "  answer = generate_answer(utterance, utterances_examples)\n",
        "  return answer, intent"
      ],
      "execution_count": 0,
      "outputs": []
    },
    {
      "cell_type": "code",
      "metadata": {
        "id": "EMj6eCqH9aNl",
        "colab_type": "code",
        "outputId": "1cea93d1-c970-4a44-d861-7d4fb8f78f48",
        "colab": {
          "base_uri": "https://localhost:8080/",
          "height": 623
        }
      },
      "source": [
        "intent=None\n",
        "while True:\n",
        "  sentence = input()\n",
        "  answer, intent = return_answer(sentence, nlp, decision_tree_classifier, rules, utterances_examples)\n",
        "  print(\"bot says: {}\\n\".format(answer))\n",
        "  if intent == 'affirm':\n",
        "    while True: \n",
        "       sentence=input()\n",
        "       rhyme=makeResponse(sentence)\n",
        "       if sentence == 'stop':\n",
        "         intent='stop'\n",
        "         answer, intent = return_answer(sentence, nlp, decision_tree_classifier, rules, utterances_examples)\n",
        "         print(\"bot says: {}\\n\".format(answer))\n",
        "         break\n",
        "       print(\"bot says: {}\\n\".format(rhyme))\n",
        "\n",
        "  if intent == 'negation' or intent=='stop':\n",
        "    break\n",
        "  \n",
        "\n",
        "  \n",
        "  "
      ],
      "execution_count": 0,
      "outputs": [
        {
          "output_type": "stream",
          "text": [
            "Hi\n",
            "bot says: Hey, what's up buddy ? Do you wanna rhyme ?\n",
            "\n",
            "yep\n",
            "bot says: Awesome, show me what you got and I'll rhyme that.\n",
            "\n",
            "Let's do it\n",
            "bot says: Brothers can't hack it\n",
            "\n",
            "How do you know that ?\n",
            "bot says: That you got that bag\n",
            "\n",
            "What r you talking about ?\n",
            "bot says: I say fuck the police, that's how I treat 'em\n",
            "\n",
            "That was funny !!\n",
            "bot says: Get money, money, money, money\n",
            "\n",
            "do you like money?\n",
            "bot says: Get money, money, money, money\n",
            "\n",
            "I like it too\n",
            "bot says: Me too\n",
            "\n",
            "We have some stuff in common \n",
            "bot says: PETA's mad cause I made a jacket outta possum\n",
            "\n",
            "Nice\n",
            "bot says: Seven o'clock, that's primetime\n",
            "\n",
            "stop\n",
            "bot says: That was funny, I'll wait for your rhymes man.\n",
            "\n"
          ],
          "name": "stdout"
        }
      ]
    }
  ]
}